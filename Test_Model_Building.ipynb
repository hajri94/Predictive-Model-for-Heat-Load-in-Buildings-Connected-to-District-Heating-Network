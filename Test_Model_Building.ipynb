{
  "cells": [
    {
      "cell_type": "markdown",
      "metadata": {
        "id": "view-in-github",
        "colab_type": "text"
      },
      "source": [
        "<a href=\"https://colab.research.google.com/github/hajri94/research-project/blob/main/Test_Model_Building.ipynb\" target=\"_parent\"><img src=\"https://colab.research.google.com/assets/colab-badge.svg\" alt=\"Open In Colab\"/></a>"
      ]
    },
    {
      "cell_type": "code",
      "execution_count": 1,
      "metadata": {
        "id": "Ikd8yW4LgmEz"
      },
      "outputs": [],
      "source": [
        "import numpy as np\n",
        "import pandas as pd\n",
        "import datetime as dt \n",
        "import matplotlib.pyplot as plt\n",
        "from numpy import percentile\n"
      ]
    },
    {
      "cell_type": "code",
      "execution_count": 2,
      "metadata": {
        "colab": {
          "base_uri": "https://localhost:8080/",
          "height": 74,
          "resources": {
            "http://localhost:8080/nbextensions/google.colab/files.js": {
              "data": "Ly8gQ29weXJpZ2h0IDIwMTcgR29vZ2xlIExMQwovLwovLyBMaWNlbnNlZCB1bmRlciB0aGUgQXBhY2hlIExpY2Vuc2UsIFZlcnNpb24gMi4wICh0aGUgIkxpY2Vuc2UiKTsKLy8geW91IG1heSBub3QgdXNlIHRoaXMgZmlsZSBleGNlcHQgaW4gY29tcGxpYW5jZSB3aXRoIHRoZSBMaWNlbnNlLgovLyBZb3UgbWF5IG9idGFpbiBhIGNvcHkgb2YgdGhlIExpY2Vuc2UgYXQKLy8KLy8gICAgICBodHRwOi8vd3d3LmFwYWNoZS5vcmcvbGljZW5zZXMvTElDRU5TRS0yLjAKLy8KLy8gVW5sZXNzIHJlcXVpcmVkIGJ5IGFwcGxpY2FibGUgbGF3IG9yIGFncmVlZCB0byBpbiB3cml0aW5nLCBzb2Z0d2FyZQovLyBkaXN0cmlidXRlZCB1bmRlciB0aGUgTGljZW5zZSBpcyBkaXN0cmlidXRlZCBvbiBhbiAiQVMgSVMiIEJBU0lTLAovLyBXSVRIT1VUIFdBUlJBTlRJRVMgT1IgQ09ORElUSU9OUyBPRiBBTlkgS0lORCwgZWl0aGVyIGV4cHJlc3Mgb3IgaW1wbGllZC4KLy8gU2VlIHRoZSBMaWNlbnNlIGZvciB0aGUgc3BlY2lmaWMgbGFuZ3VhZ2UgZ292ZXJuaW5nIHBlcm1pc3Npb25zIGFuZAovLyBsaW1pdGF0aW9ucyB1bmRlciB0aGUgTGljZW5zZS4KCi8qKgogKiBAZmlsZW92ZXJ2aWV3IEhlbHBlcnMgZm9yIGdvb2dsZS5jb2xhYiBQeXRob24gbW9kdWxlLgogKi8KKGZ1bmN0aW9uKHNjb3BlKSB7CmZ1bmN0aW9uIHNwYW4odGV4dCwgc3R5bGVBdHRyaWJ1dGVzID0ge30pIHsKICBjb25zdCBlbGVtZW50ID0gZG9jdW1lbnQuY3JlYXRlRWxlbWVudCgnc3BhbicpOwogIGVsZW1lbnQudGV4dENvbnRlbnQgPSB0ZXh0OwogIGZvciAoY29uc3Qga2V5IG9mIE9iamVjdC5rZXlzKHN0eWxlQXR0cmlidXRlcykpIHsKICAgIGVsZW1lbnQuc3R5bGVba2V5XSA9IHN0eWxlQXR0cmlidXRlc1trZXldOwogIH0KICByZXR1cm4gZWxlbWVudDsKfQoKLy8gTWF4IG51bWJlciBvZiBieXRlcyB3aGljaCB3aWxsIGJlIHVwbG9hZGVkIGF0IGEgdGltZS4KY29uc3QgTUFYX1BBWUxPQURfU0laRSA9IDEwMCAqIDEwMjQ7CgpmdW5jdGlvbiBfdXBsb2FkRmlsZXMoaW5wdXRJZCwgb3V0cHV0SWQpIHsKICBjb25zdCBzdGVwcyA9IHVwbG9hZEZpbGVzU3RlcChpbnB1dElkLCBvdXRwdXRJZCk7CiAgY29uc3Qgb3V0cHV0RWxlbWVudCA9IGRvY3VtZW50LmdldEVsZW1lbnRCeUlkKG91dHB1dElkKTsKICAvLyBDYWNoZSBzdGVwcyBvbiB0aGUgb3V0cHV0RWxlbWVudCB0byBtYWtlIGl0IGF2YWlsYWJsZSBmb3IgdGhlIG5leHQgY2FsbAogIC8vIHRvIHVwbG9hZEZpbGVzQ29udGludWUgZnJvbSBQeXRob24uCiAgb3V0cHV0RWxlbWVudC5zdGVwcyA9IHN0ZXBzOwoKICByZXR1cm4gX3VwbG9hZEZpbGVzQ29udGludWUob3V0cHV0SWQpOwp9CgovLyBUaGlzIGlzIHJvdWdobHkgYW4gYXN5bmMgZ2VuZXJhdG9yIChub3Qgc3VwcG9ydGVkIGluIHRoZSBicm93c2VyIHlldCksCi8vIHdoZXJlIHRoZXJlIGFyZSBtdWx0aXBsZSBhc3luY2hyb25vdXMgc3RlcHMgYW5kIHRoZSBQeXRob24gc2lkZSBpcyBnb2luZwovLyB0byBwb2xsIGZvciBjb21wbGV0aW9uIG9mIGVhY2ggc3RlcC4KLy8gVGhpcyB1c2VzIGEgUHJvbWlzZSB0byBibG9jayB0aGUgcHl0aG9uIHNpZGUgb24gY29tcGxldGlvbiBvZiBlYWNoIHN0ZXAsCi8vIHRoZW4gcGFzc2VzIHRoZSByZXN1bHQgb2YgdGhlIHByZXZpb3VzIHN0ZXAgYXMgdGhlIGlucHV0IHRvIHRoZSBuZXh0IHN0ZXAuCmZ1bmN0aW9uIF91cGxvYWRGaWxlc0NvbnRpbnVlKG91dHB1dElkKSB7CiAgY29uc3Qgb3V0cHV0RWxlbWVudCA9IGRvY3VtZW50LmdldEVsZW1lbnRCeUlkKG91dHB1dElkKTsKICBjb25zdCBzdGVwcyA9IG91dHB1dEVsZW1lbnQuc3RlcHM7CgogIGNvbnN0IG5leHQgPSBzdGVwcy5uZXh0KG91dHB1dEVsZW1lbnQubGFzdFByb21pc2VWYWx1ZSk7CiAgcmV0dXJuIFByb21pc2UucmVzb2x2ZShuZXh0LnZhbHVlLnByb21pc2UpLnRoZW4oKHZhbHVlKSA9PiB7CiAgICAvLyBDYWNoZSB0aGUgbGFzdCBwcm9taXNlIHZhbHVlIHRvIG1ha2UgaXQgYXZhaWxhYmxlIHRvIHRoZSBuZXh0CiAgICAvLyBzdGVwIG9mIHRoZSBnZW5lcmF0b3IuCiAgICBvdXRwdXRFbGVtZW50Lmxhc3RQcm9taXNlVmFsdWUgPSB2YWx1ZTsKICAgIHJldHVybiBuZXh0LnZhbHVlLnJlc3BvbnNlOwogIH0pOwp9CgovKioKICogR2VuZXJhdG9yIGZ1bmN0aW9uIHdoaWNoIGlzIGNhbGxlZCBiZXR3ZWVuIGVhY2ggYXN5bmMgc3RlcCBvZiB0aGUgdXBsb2FkCiAqIHByb2Nlc3MuCiAqIEBwYXJhbSB7c3RyaW5nfSBpbnB1dElkIEVsZW1lbnQgSUQgb2YgdGhlIGlucHV0IGZpbGUgcGlja2VyIGVsZW1lbnQuCiAqIEBwYXJhbSB7c3RyaW5nfSBvdXRwdXRJZCBFbGVtZW50IElEIG9mIHRoZSBvdXRwdXQgZGlzcGxheS4KICogQHJldHVybiB7IUl0ZXJhYmxlPCFPYmplY3Q+fSBJdGVyYWJsZSBvZiBuZXh0IHN0ZXBzLgogKi8KZnVuY3Rpb24qIHVwbG9hZEZpbGVzU3RlcChpbnB1dElkLCBvdXRwdXRJZCkgewogIGNvbnN0IGlucHV0RWxlbWVudCA9IGRvY3VtZW50LmdldEVsZW1lbnRCeUlkKGlucHV0SWQpOwogIGlucHV0RWxlbWVudC5kaXNhYmxlZCA9IGZhbHNlOwoKICBjb25zdCBvdXRwdXRFbGVtZW50ID0gZG9jdW1lbnQuZ2V0RWxlbWVudEJ5SWQob3V0cHV0SWQpOwogIG91dHB1dEVsZW1lbnQuaW5uZXJIVE1MID0gJyc7CgogIGNvbnN0IHBpY2tlZFByb21pc2UgPSBuZXcgUHJvbWlzZSgocmVzb2x2ZSkgPT4gewogICAgaW5wdXRFbGVtZW50LmFkZEV2ZW50TGlzdGVuZXIoJ2NoYW5nZScsIChlKSA9PiB7CiAgICAgIHJlc29sdmUoZS50YXJnZXQuZmlsZXMpOwogICAgfSk7CiAgfSk7CgogIGNvbnN0IGNhbmNlbCA9IGRvY3VtZW50LmNyZWF0ZUVsZW1lbnQoJ2J1dHRvbicpOwogIGlucHV0RWxlbWVudC5wYXJlbnRFbGVtZW50LmFwcGVuZENoaWxkKGNhbmNlbCk7CiAgY2FuY2VsLnRleHRDb250ZW50ID0gJ0NhbmNlbCB1cGxvYWQnOwogIGNvbnN0IGNhbmNlbFByb21pc2UgPSBuZXcgUHJvbWlzZSgocmVzb2x2ZSkgPT4gewogICAgY2FuY2VsLm9uY2xpY2sgPSAoKSA9PiB7CiAgICAgIHJlc29sdmUobnVsbCk7CiAgICB9OwogIH0pOwoKICAvLyBXYWl0IGZvciB0aGUgdXNlciB0byBwaWNrIHRoZSBmaWxlcy4KICBjb25zdCBmaWxlcyA9IHlpZWxkIHsKICAgIHByb21pc2U6IFByb21pc2UucmFjZShbcGlja2VkUHJvbWlzZSwgY2FuY2VsUHJvbWlzZV0pLAogICAgcmVzcG9uc2U6IHsKICAgICAgYWN0aW9uOiAnc3RhcnRpbmcnLAogICAgfQogIH07CgogIGNhbmNlbC5yZW1vdmUoKTsKCiAgLy8gRGlzYWJsZSB0aGUgaW5wdXQgZWxlbWVudCBzaW5jZSBmdXJ0aGVyIHBpY2tzIGFyZSBub3QgYWxsb3dlZC4KICBpbnB1dEVsZW1lbnQuZGlzYWJsZWQgPSB0cnVlOwoKICBpZiAoIWZpbGVzKSB7CiAgICByZXR1cm4gewogICAgICByZXNwb25zZTogewogICAgICAgIGFjdGlvbjogJ2NvbXBsZXRlJywKICAgICAgfQogICAgfTsKICB9CgogIGZvciAoY29uc3QgZmlsZSBvZiBmaWxlcykgewogICAgY29uc3QgbGkgPSBkb2N1bWVudC5jcmVhdGVFbGVtZW50KCdsaScpOwogICAgbGkuYXBwZW5kKHNwYW4oZmlsZS5uYW1lLCB7Zm9udFdlaWdodDogJ2JvbGQnfSkpOwogICAgbGkuYXBwZW5kKHNwYW4oCiAgICAgICAgYCgke2ZpbGUudHlwZSB8fCAnbi9hJ30pIC0gJHtmaWxlLnNpemV9IGJ5dGVzLCBgICsKICAgICAgICBgbGFzdCBtb2RpZmllZDogJHsKICAgICAgICAgICAgZmlsZS5sYXN0TW9kaWZpZWREYXRlID8gZmlsZS5sYXN0TW9kaWZpZWREYXRlLnRvTG9jYWxlRGF0ZVN0cmluZygpIDoKICAgICAgICAgICAgICAgICAgICAgICAgICAgICAgICAgICAgJ24vYSd9IC0gYCkpOwogICAgY29uc3QgcGVyY2VudCA9IHNwYW4oJzAlIGRvbmUnKTsKICAgIGxpLmFwcGVuZENoaWxkKHBlcmNlbnQpOwoKICAgIG91dHB1dEVsZW1lbnQuYXBwZW5kQ2hpbGQobGkpOwoKICAgIGNvbnN0IGZpbGVEYXRhUHJvbWlzZSA9IG5ldyBQcm9taXNlKChyZXNvbHZlKSA9PiB7CiAgICAgIGNvbnN0IHJlYWRlciA9IG5ldyBGaWxlUmVhZGVyKCk7CiAgICAgIHJlYWRlci5vbmxvYWQgPSAoZSkgPT4gewogICAgICAgIHJlc29sdmUoZS50YXJnZXQucmVzdWx0KTsKICAgICAgfTsKICAgICAgcmVhZGVyLnJlYWRBc0FycmF5QnVmZmVyKGZpbGUpOwogICAgfSk7CiAgICAvLyBXYWl0IGZvciB0aGUgZGF0YSB0byBiZSByZWFkeS4KICAgIGxldCBmaWxlRGF0YSA9IHlpZWxkIHsKICAgICAgcHJvbWlzZTogZmlsZURhdGFQcm9taXNlLAogICAgICByZXNwb25zZTogewogICAgICAgIGFjdGlvbjogJ2NvbnRpbnVlJywKICAgICAgfQogICAgfTsKCiAgICAvLyBVc2UgYSBjaHVua2VkIHNlbmRpbmcgdG8gYXZvaWQgbWVzc2FnZSBzaXplIGxpbWl0cy4gU2VlIGIvNjIxMTU2NjAuCiAgICBsZXQgcG9zaXRpb24gPSAwOwogICAgZG8gewogICAgICBjb25zdCBsZW5ndGggPSBNYXRoLm1pbihmaWxlRGF0YS5ieXRlTGVuZ3RoIC0gcG9zaXRpb24sIE1BWF9QQVlMT0FEX1NJWkUpOwogICAgICBjb25zdCBjaHVuayA9IG5ldyBVaW50OEFycmF5KGZpbGVEYXRhLCBwb3NpdGlvbiwgbGVuZ3RoKTsKICAgICAgcG9zaXRpb24gKz0gbGVuZ3RoOwoKICAgICAgY29uc3QgYmFzZTY0ID0gYnRvYShTdHJpbmcuZnJvbUNoYXJDb2RlLmFwcGx5KG51bGwsIGNodW5rKSk7CiAgICAgIHlpZWxkIHsKICAgICAgICByZXNwb25zZTogewogICAgICAgICAgYWN0aW9uOiAnYXBwZW5kJywKICAgICAgICAgIGZpbGU6IGZpbGUubmFtZSwKICAgICAgICAgIGRhdGE6IGJhc2U2NCwKICAgICAgICB9LAogICAgICB9OwoKICAgICAgbGV0IHBlcmNlbnREb25lID0gZmlsZURhdGEuYnl0ZUxlbmd0aCA9PT0gMCA/CiAgICAgICAgICAxMDAgOgogICAgICAgICAgTWF0aC5yb3VuZCgocG9zaXRpb24gLyBmaWxlRGF0YS5ieXRlTGVuZ3RoKSAqIDEwMCk7CiAgICAgIHBlcmNlbnQudGV4dENvbnRlbnQgPSBgJHtwZXJjZW50RG9uZX0lIGRvbmVgOwoKICAgIH0gd2hpbGUgKHBvc2l0aW9uIDwgZmlsZURhdGEuYnl0ZUxlbmd0aCk7CiAgfQoKICAvLyBBbGwgZG9uZS4KICB5aWVsZCB7CiAgICByZXNwb25zZTogewogICAgICBhY3Rpb246ICdjb21wbGV0ZScsCiAgICB9CiAgfTsKfQoKc2NvcGUuZ29vZ2xlID0gc2NvcGUuZ29vZ2xlIHx8IHt9OwpzY29wZS5nb29nbGUuY29sYWIgPSBzY29wZS5nb29nbGUuY29sYWIgfHwge307CnNjb3BlLmdvb2dsZS5jb2xhYi5fZmlsZXMgPSB7CiAgX3VwbG9hZEZpbGVzLAogIF91cGxvYWRGaWxlc0NvbnRpbnVlLAp9Owp9KShzZWxmKTsK",
              "headers": [
                [
                  "content-type",
                  "application/javascript"
                ]
              ],
              "ok": true,
              "status": 200,
              "status_text": ""
            }
          }
        },
        "id": "Lxuh7Ll-iyQb",
        "outputId": "c2f08f44-f76c-4d6c-e9dc-d28bb1c1550a"
      },
      "outputs": [
        {
          "output_type": "display_data",
          "data": {
            "text/plain": [
              "<IPython.core.display.HTML object>"
            ],
            "text/html": [
              "\n",
              "     <input type=\"file\" id=\"files-868a155b-0578-462d-a450-e65af9700104\" name=\"files[]\" multiple disabled\n",
              "        style=\"border:none\" />\n",
              "     <output id=\"result-868a155b-0578-462d-a450-e65af9700104\">\n",
              "      Upload widget is only available when the cell has been executed in the\n",
              "      current browser session. Please rerun this cell to enable.\n",
              "      </output>\n",
              "      <script src=\"/nbextensions/google.colab/files.js\"></script> "
            ]
          },
          "metadata": {}
        },
        {
          "output_type": "stream",
          "name": "stdout",
          "text": [
            "Saving Test dataframe 10259.xlsx to Test dataframe 10259.xlsx\n"
          ]
        }
      ],
      "source": [
        "# We download the excel file\n",
        "from google.colab import files\n",
        "uploaded = files.upload()"
      ]
    },
    {
      "cell_type": "code",
      "execution_count": null,
      "metadata": {
        "id": "1u3e3dqxw4mD"
      },
      "outputs": [],
      "source": [
        "# Convert the excel file into pandas Dataframe\n",
        "import io \n",
        "df = pd.read_excel(io.BytesIO(uploaded['Test dataframe 10259.xlsx']))\n",
        "# We round the columns (POWER , Temperature, Irradiation.flux) to one decimal place.\n",
        "df['Temperature']=df['Temperature'].round(1)\n",
        "df['Irradiation.flux']=df['Irradiation.flux'].round(1)\n",
        "df\n",
        "\n",
        "\n"
      ]
    },
    {
      "cell_type": "code",
      "execution_count": null,
      "metadata": {
        "id": "W-IFCpLnPXgU"
      },
      "outputs": [],
      "source": [
        "# We create multiple POWER lagged columns (we choose 12 lagged dependent variables  ) \n",
        "lagged1 = pd.concat([df['POWER'].shift(lag).rename('{}_lag{}'.format(df['POWER'].name, lag)) for lag in range(13)], axis=1)\n",
        "# we convert the integers to float using astype fuction  and drop the the nan values usiing dropna function.\n",
        "L1=lagged1.dropna().astype(float)\n",
        "L1\n",
        "\n",
        "\n"
      ]
    },
    {
      "cell_type": "code",
      "execution_count": null,
      "metadata": {
        "id": "49jTp_4_BmP_"
      },
      "outputs": [],
      "source": [
        "# We create multiple Temperature lagged columns (we choose 24 lagged independent variables)\n",
        "lagged2 = pd.concat([df['Temperature'].shift(lag).rename('{}_lag{}'.format(df['Temperature'].name, lag)) for lag in range(25)], axis=1)\n",
        "# we convert the integers to float using astype fuction  and drop the the nan values usiing dropna function.\n",
        "L2=lagged2.dropna().astype(float)\n",
        "L2"
      ]
    },
    {
      "cell_type": "code",
      "execution_count": null,
      "metadata": {
        "id": "4FAs4LgxCysp"
      },
      "outputs": [],
      "source": [
        "# We create multiple Irradiation.flux lagged columns(we choose 24 lagged independent variables)\n",
        "lagged3 = pd.concat([df['Irradiation.flux'].shift(lag).rename('{}_lag{}'.format(df['Irradiation.flux'].name, lag)) for lag in range(25)], axis=1)\n",
        "# we convert the integers to float using astype fuction  and drop the the nan values usiing dropna function.\n",
        "L3=lagged3.dropna().astype(float)\n",
        "L3\n"
      ]
    },
    {
      "cell_type": "code",
      "execution_count": null,
      "metadata": {
        "id": "rgFa6-k7DcSL"
      },
      "outputs": [],
      "source": [
        "# Maximize the size of Column in google colab \n",
        "#(we resize the maximum number of columns in google colab to fit our dataframe)\n",
        "from google.colab.data_table import DataTable\n",
        "DataTable.max_columns = 300\n",
        "# Joining the DataFrame of POWER Lagged Columns to the Dataframe of Temperature Lagged Columns \n",
        "# We use the concat function to join 2 dataframes lagged1 (POWER) + lagged2 (Temperature) => Creation of new dataframe called \"result\".\n",
        "result = pd.concat([L1,L2], axis=1, join='inner')\n",
        "result"
      ]
    },
    {
      "cell_type": "code",
      "execution_count": null,
      "metadata": {
        "id": "kQkfQEqn8L79"
      },
      "outputs": [],
      "source": [
        "#Joining the DataFrame of POWER and Temperature Lagged Columns (POWER+Temperature=> result dataframe) to the Dataframe of Irradiation flux Lagged Columns \n",
        "# We use the concat function to join 2 dataframes result (POWER+Temperature) + lagged3 (Irradiation flux)  => Creation of new dataframe called \"result1\"\n",
        "result1 = pd.concat([result,L3], axis=1, join='inner')\n",
        "result1"
      ]
    },
    {
      "cell_type": "code",
      "execution_count": null,
      "metadata": {
        "id": "823uqPdoIF52"
      },
      "outputs": [],
      "source": [
        "# We join the \"Result1\" Dataframe (Power , Temperature, Irradiation flux ) to the original dataframe (the one that we have uploaded from excel)\n",
        "# we perform this line of code in order to link the two columns (READ_DATE),(Week_Day) to the datframe (result2). \n",
        "# The new dataframe need to be more organized as we see some columns that are repeated. \n",
        "result2 = pd.concat([result1,df], axis=1, join='inner')\n",
        "#we remove the columns titled (POWER , Temperature, Irradiation flux)\n",
        "dk=result2.drop(['POWER', 'Temperature','Irradiation.flux'], axis = 1) \n",
        "# To move the Read_Date and Week Date columns to first Position we implement some initial step: \n",
        "# First we remove the targeted column \"Week_Day\" from its intial position in the dataframe.  \n",
        "first_column = dk.pop('Week_Day')\n",
        "# Second we insert the removed column \"Week_Day\" to first position.\n",
        "dk.insert(0, 'Week_Day', first_column)\n",
        "# We perform the previous step for the \"READ_DATE\" column.\n",
        "second_column = dk.pop('READ_DATE')\n",
        "dk.insert(0, 'READ_DATE', second_column)\n",
        "dk"
      ]
    },
    {
      "cell_type": "code",
      "execution_count": 18,
      "metadata": {
        "colab": {
          "base_uri": "https://localhost:8080/",
          "height": 74,
          "resources": {
            "http://localhost:8080/nbextensions/google.colab/files.js": {
              "data": "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",
              "headers": [
                [
                  "content-type",
                  "application/javascript"
                ]
              ],
              "ok": true,
              "status": 200,
              "status_text": ""
            }
          }
        },
        "id": "W5m2hqwOavt8",
        "outputId": "0c92e0f9-02ed-4d75-eec1-1b5a9d0db60b"
      },
      "outputs": [
        {
          "output_type": "display_data",
          "data": {
            "text/plain": [
              "<IPython.core.display.HTML object>"
            ],
            "text/html": [
              "\n",
              "     <input type=\"file\" id=\"files-fa2ef566-d453-449a-bb5a-969122c50c6e\" name=\"files[]\" multiple disabled\n",
              "        style=\"border:none\" />\n",
              "     <output id=\"result-fa2ef566-d453-449a-bb5a-969122c50c6e\">\n",
              "      Upload widget is only available when the cell has been executed in the\n",
              "      current browser session. Please rerun this cell to enable.\n",
              "      </output>\n",
              "      <script src=\"/nbextensions/google.colab/files.js\"></script> "
            ]
          },
          "metadata": {}
        },
        {
          "output_type": "stream",
          "name": "stdout",
          "text": [
            "Saving calendar Data .xlsx to calendar Data .xlsx\n"
          ]
        }
      ],
      "source": [
        "# After creating the new dataframe (called dk), we link it to calendar data table  which is put in an excel file to carry out this step :  \n",
        "# We download the calendar data excel file\n",
        "from google.colab import files\n",
        "uploaded = files.upload()"
      ]
    },
    {
      "cell_type": "code",
      "execution_count": 19,
      "metadata": {
        "id": "tIyPTovgsWY4"
      },
      "outputs": [],
      "source": [
        "# Convert the excel file into Dataframe\n",
        "import io \n",
        "dm = pd.read_excel(io.BytesIO(uploaded['calendar Data .xlsx']))\n",
        "#In the \"Bank Holidays\" column we replace the NaN value with zeros.\n",
        "dm['Bank Holidays'] = dm['Bank Holidays'].fillna(0)\n",
        "# we remove the \"READ_DATE\" and \"Week_Day\" columns to avoid the Repetition of these column when linking it to the dataframe \"Dk\" \n",
        "remove_column = dm.pop('READ_DATE')\n",
        "remove2_column = dm.pop('Week_Day')\n"
      ]
    },
    {
      "cell_type": "code",
      "source": [
        "# we convert the  integers dummy variables (calendar data)  to floats. \n",
        "dm[['Tuesday 0h','Tuesday 1h','Tuesday 2h','Tuesday 3h','Tuesday 4h','Tuesday 5h','Tuesday 6h','Tuesday 7h','Tuesday 8h','Tuesday 9h','Tuesday 10h','Tuesday 11h','Tuesday 12h','Tuesday 13h','Tuesday 14h',\n",
        "        'Tuesday 15h','Tuesday 16h','Tuesday 17h','Tuesday 18h','Tuesday 19h','Tuesday 20h','Tuesday 21h','Tuesday 22h','Tuesday 23h','Wednesday 0h','Wednesday 1h','Wednesday 2h','Wednesday 3h','Wednesday 4h','Wednesday 5h','Wednesday 6h','Wednesday 7h','Wednesday 8h','Wednesday 9h','Wednesday 10h','Wednesday 11h','Wednesday 12h','Wednesday 13h','Wednesday 14h',\n",
        "        'Wednesday 15h','Wednesday 16h','Wednesday 17h','Wednesday 18h','Wednesday 19h','Wednesday 20h','Wednesday 21h','Wednesday 22h','Wednesday 23h','Thursday 0h','Thursday 1h','Thursday 2h','Thursday 3h','Thursday 4h','Thursday 5h','Thursday 6h','Thursday 7h','Thursday 8h','Thursday 9h','Thursday 10h','Thursday 11h','Thursday 12h','Thursday 13h','Thursday 14h',\n",
        "        'Thursday 15h','Thursday 16h','Thursday 17h','Thursday 18h','Thursday 19h','Thursday 20h','Thursday 21h','Thursday 22h','Thursday 23h','Friday 0h','Friday 1h','Friday 2h','Friday 3h','Friday 4h','Friday 5h','Friday 6h','Friday 7h','Friday 8h','Friday 9h','Friday 10h','Friday 11h','Friday 12h','Friday 13h','Friday 14h',\n",
        "        'Friday 15h','Friday 16h','Friday 17h','Friday 18h','Friday 19h','Friday 20h','Friday 21h','Friday 22h','Friday 23h','Saturday 0h','Saturday 1h','Saturday 2h','Saturday 3h','Saturday 4h','Saturday 5h','Saturday 6h','Saturday 7h','Saturday 8h','Saturday 9h','Saturday 10h','Saturday 11h','Saturday 12h','Saturday 13h','Saturday 14h',\n",
        "        'Saturday 15h','Saturday 16h','Saturday 17h','Saturday 18h','Saturday 19h','Saturday 20h','Saturday 21h','Saturday 22h','Saturday 23h','Sunday 0h','Sunday 1h','Sunday 2h','Sunday 3h','Sunday 4h','Sunday 5h','Sunday 6h','Sunday 7h','Sunday 8h','Sunday 9h','Sunday 10h','Sunday 11h','Sunday 12h','Sunday 13h','Sunday 14h',\n",
        "        'Sunday 15h','Sunday 16h','Sunday 17h','Sunday 18h','Sunday 19h','Sunday 20h','Sunday 21h','Sunday 22h','Sunday 23h','Monday 0h','Monday 1h','Monday 2h','Monday 3h','Monday 4h','Monday 5h','Monday 6h','Monday 7h','Monday 8h','Monday 9h','Monday 10h','Monday 11h','Monday 12h','Monday 13h','Monday 14h',\n",
        "        'Monday 15h','Monday 16h','Monday 17h','Monday 18h','Monday 19h','Monday 20h','Monday 21h','Monday 22h','Monday 23h']]= dm[['Tuesday 0h','Tuesday 1h','Tuesday 2h','Tuesday 3h','Tuesday 4h','Tuesday 5h','Tuesday 6h','Tuesday 7h','Tuesday 8h','Tuesday 9h','Tuesday 10h','Tuesday 11h','Tuesday 12h','Tuesday 13h','Tuesday 14h',\n",
        "        'Tuesday 15h','Tuesday 16h','Tuesday 17h','Tuesday 18h','Tuesday 19h','Tuesday 20h','Tuesday 21h','Tuesday 22h','Tuesday 23h','Wednesday 0h','Wednesday 1h','Wednesday 2h','Wednesday 3h','Wednesday 4h','Wednesday 5h','Wednesday 6h','Wednesday 7h','Wednesday 8h','Wednesday 9h','Wednesday 10h','Wednesday 11h','Wednesday 12h','Wednesday 13h','Wednesday 14h',\n",
        "        'Wednesday 15h','Wednesday 16h','Wednesday 17h','Wednesday 18h','Wednesday 19h','Wednesday 20h','Wednesday 21h','Wednesday 22h','Wednesday 23h','Thursday 0h','Thursday 1h','Thursday 2h','Thursday 3h','Thursday 4h','Thursday 5h','Thursday 6h','Thursday 7h','Thursday 8h','Thursday 9h','Thursday 10h','Thursday 11h','Thursday 12h','Thursday 13h','Thursday 14h',\n",
        "        'Thursday 15h','Thursday 16h','Thursday 17h','Thursday 18h','Thursday 19h','Thursday 20h','Thursday 21h','Thursday 22h','Thursday 23h','Friday 0h','Friday 1h','Friday 2h','Friday 3h','Friday 4h','Friday 5h','Friday 6h','Friday 7h','Friday 8h','Friday 9h','Friday 10h','Friday 11h','Friday 12h','Friday 13h','Friday 14h',\n",
        "        'Friday 15h','Friday 16h','Friday 17h','Friday 18h','Friday 19h','Friday 20h','Friday 21h','Friday 22h','Friday 23h','Saturday 0h','Saturday 1h','Saturday 2h','Saturday 3h','Saturday 4h','Saturday 5h','Saturday 6h','Saturday 7h','Saturday 8h','Saturday 9h','Saturday 10h','Saturday 11h','Saturday 12h','Saturday 13h','Saturday 14h',\n",
        "        'Saturday 15h','Saturday 16h','Saturday 17h','Saturday 18h','Saturday 19h','Saturday 20h','Saturday 21h','Saturday 22h','Saturday 23h','Sunday 0h','Sunday 1h','Sunday 2h','Sunday 3h','Sunday 4h','Sunday 5h','Sunday 6h','Sunday 7h','Sunday 8h','Sunday 9h','Sunday 10h','Sunday 11h','Sunday 12h','Sunday 13h','Sunday 14h',\n",
        "        'Sunday 15h','Sunday 16h','Sunday 17h','Sunday 18h','Sunday 19h','Sunday 20h','Sunday 21h','Sunday 22h','Sunday 23h','Monday 0h','Monday 1h','Monday 2h','Monday 3h','Monday 4h','Monday 5h','Monday 6h','Monday 7h','Monday 8h','Monday 9h','Monday 10h','Monday 11h','Monday 12h','Monday 13h','Monday 14h',\n",
        "        'Monday 15h','Monday 16h','Monday 17h','Monday 18h','Monday 19h','Monday 20h','Monday 21h','Monday 22h','Monday 23h']].apply(pd.to_numeric,downcast='float')\n",
        "\n",
        "\n",
        "dm.dtypes\n"
      ],
      "metadata": {
        "id": "wx4JWPNc7H2A"
      },
      "execution_count": null,
      "outputs": []
    },
    {
      "cell_type": "code",
      "execution_count": null,
      "metadata": {
        "id": "Sxyna9q0uSei"
      },
      "outputs": [],
      "source": [
        "# we join the calendar data dataframe uploaded from excel file to the dataframe \"Dk\" \n",
        "result3 = pd.concat([dk,dm], axis=1, join='inner')\n",
        "result3\n"
      ]
    },
    {
      "cell_type": "code",
      "execution_count": null,
      "metadata": {
        "id": "UKLxLAV4yHr9"
      },
      "outputs": [],
      "source": [
        "#we move the postion of  \"Hour_day\" column to first position .\n",
        "column = result3.pop('Hour_day')\n",
        "result3.insert(0, 'Hour_day', column)\n",
        "# We drop the nan value from the dataframe\n",
        "r3=result3.dropna()\n",
        "r3\n",
        "\n",
        "\n"
      ]
    },
    {
      "cell_type": "code",
      "source": [
        "# With this code we can perform the fitering of each of the \"Hour_day\" value.  \n",
        "HourWeek=result3[result3['Hour_day']== 1]"
      ],
      "metadata": {
        "id": "fppG6FNQO5WT"
      },
      "execution_count": null,
      "outputs": []
    },
    {
      "cell_type": "code",
      "execution_count": 25,
      "metadata": {
        "id": "5lybJ05UJSF_",
        "colab": {
          "base_uri": "https://localhost:8080/"
        },
        "outputId": "086872d3-5f1a-43a3-9f33-8ee10188bf46"
      },
      "outputs": [
        {
          "output_type": "stream",
          "name": "stderr",
          "text": [
            "/usr/local/lib/python3.7/dist-packages/statsmodels/tools/_testing.py:19: FutureWarning: pandas.util.testing is deprecated. Use the functions in the public API at pandas.testing instead.\n",
            "  import pandas.util.testing as tm\n"
          ]
        }
      ],
      "source": [
        "# after building the first part of the model called ARX model (Autoregressive with exogenous modelling), we perform the model fitting process.\n",
        "#We begin with:  \n",
        "#Separation of indeppendent variables and dependent variables\n",
        "\n",
        "import pandas as pd\n",
        "import statsmodels.api as sm\n",
        "X = r3[['POWER_lag1','POWER_lag2','POWER_lag3','POWER_lag4','POWER_lag5','POWER_lag6','POWER_lag7','POWER_lag8','POWER_lag9','POWER_lag10','POWER_lag11','POWER_lag12',\n",
        "        'Temperature_lag0','Temperature_lag1','Temperature_lag2','Temperature_lag3','Temperature_lag4','Temperature_lag5','Temperature_lag6','Temperature_lag7','Temperature_lag8',\n",
        "        'Temperature_lag9','Temperature_lag10','Temperature_lag11','Temperature_lag12','Temperature_lag13','Temperature_lag14','Temperature_lag15','Temperature_lag16','Temperature_lag17','Temperature_lag18','Temperature_lag19','Temperature_lag20','Temperature_lag21','Temperature_lag22','Temperature_lag23','Temperature_lag24',\n",
        "        'Irradiation.flux_lag0','Irradiation.flux_lag1','Irradiation.flux_lag2','Irradiation.flux_lag3','Irradiation.flux_lag4','Irradiation.flux_lag5','Irradiation.flux_lag6','Irradiation.flux_lag7','Irradiation.flux_lag8','Irradiation.flux_lag9','Irradiation.flux_lag10','Irradiation.flux_lag11','Irradiation.flux_lag12','Irradiation.flux_lag13','Irradiation.flux_lag14','Irradiation.flux_lag15','Irradiation.flux_lag16','Irradiation.flux_lag17','Irradiation.flux_lag18','Irradiation.flux_lag19','Irradiation.flux_lag20','Irradiation.flux_lag21','Irradiation.flux_lag22','Irradiation.flux_lag23',\n",
        "        'Irradiation.flux_lag24','Tuesday 0h','Tuesday 1h','Tuesday 2h','Tuesday 3h','Tuesday 4h','Tuesday 5h','Tuesday 6h','Tuesday 7h','Tuesday 8h','Tuesday 9h','Tuesday 10h','Tuesday 11h','Tuesday 12h','Tuesday 13h','Tuesday 14h',\n",
        "        'Tuesday 15h','Tuesday 16h','Tuesday 17h','Tuesday 18h','Tuesday 19h','Tuesday 20h','Tuesday 21h','Tuesday 22h','Tuesday 23h','Wednesday 0h','Wednesday 1h','Wednesday 2h','Wednesday 3h','Wednesday 4h','Wednesday 5h','Wednesday 6h','Wednesday 7h','Wednesday 8h','Wednesday 9h','Wednesday 10h','Wednesday 11h','Wednesday 12h','Wednesday 13h','Wednesday 14h',\n",
        "        'Wednesday 15h','Wednesday 16h','Wednesday 17h','Wednesday 18h','Wednesday 19h','Wednesday 20h','Wednesday 21h','Wednesday 22h','Wednesday 23h','Thursday 0h','Thursday 1h','Thursday 2h','Thursday 3h','Thursday 4h','Thursday 5h','Thursday 6h','Thursday 7h','Thursday 8h','Thursday 9h','Thursday 10h','Thursday 11h','Thursday 12h','Thursday 13h','Thursday 14h',\n",
        "        'Thursday 15h','Thursday 16h','Thursday 17h','Thursday 18h','Thursday 19h','Thursday 20h','Thursday 21h','Thursday 22h','Thursday 23h','Friday 0h','Friday 1h','Friday 2h','Friday 3h','Friday 4h','Friday 5h','Friday 6h','Friday 7h','Friday 8h','Friday 9h','Friday 10h','Friday 11h','Friday 12h','Friday 13h','Friday 14h',\n",
        "        'Friday 15h','Friday 16h','Friday 17h','Friday 18h','Friday 19h','Friday 20h','Friday 21h','Friday 22h','Friday 23h','Saturday 0h','Saturday 1h','Saturday 2h','Saturday 3h','Saturday 4h','Saturday 5h','Saturday 6h','Saturday 7h','Saturday 8h','Saturday 9h','Saturday 10h','Saturday 11h','Saturday 12h','Saturday 13h','Saturday 14h',\n",
        "        'Saturday 15h','Saturday 16h','Saturday 17h','Saturday 18h','Saturday 19h','Saturday 20h','Saturday 21h','Saturday 22h','Saturday 23h','Sunday 0h','Sunday 1h','Sunday 2h','Sunday 3h','Sunday 4h','Sunday 5h','Sunday 6h','Sunday 7h','Sunday 8h','Sunday 9h','Sunday 10h','Sunday 11h','Sunday 12h','Sunday 13h','Sunday 14h',\n",
        "        'Sunday 15h','Sunday 16h','Sunday 17h','Sunday 18h','Sunday 19h','Sunday 20h','Sunday 21h','Sunday 22h','Sunday 23h','Monday 0h','Monday 1h','Monday 2h','Monday 3h','Monday 4h','Monday 5h','Monday 6h','Monday 7h','Monday 8h','Monday 9h','Monday 10h','Monday 11h','Monday 12h','Monday 13h','Monday 14h',\n",
        "        'Monday 15h','Monday 16h','Monday 17h','Monday 18h','Monday 19h','Monday 20h','Monday 21h','Monday 22h','Monday 23h','Bank Holidays']] \n",
        "Y = r3['POWER_lag0']\n",
        "\n"
      ]
    },
    {
      "cell_type": "code",
      "execution_count": 26,
      "metadata": {
        "id": "PVfoZ5jlpM3y",
        "colab": {
          "base_uri": "https://localhost:8080/"
        },
        "outputId": "b36c46f3-7a0e-45b1-e538-4f6a6c6edb68"
      },
      "outputs": [
        {
          "output_type": "execute_result",
          "data": {
            "text/plain": [
              "LinearRegression()"
            ]
          },
          "metadata": {},
          "execution_count": 26
        }
      ],
      "source": [
        "# we fit our model using statmodels library \n",
        "import pandas as pd\n",
        "import statsmodels.api as sm\n",
        "from sklearn import linear_model\n",
        "regr = linear_model.LinearRegression()\n",
        "regr.fit(X, Y)\n"
      ]
    },
    {
      "cell_type": "code",
      "source": [
        "# with statsmodels we display a comprehensive table with statistical informations.\n",
        "X = sm.add_constant(X) # adding a constant\n",
        " \n",
        "model = sm.OLS(Y, X).fit()\n",
        "predictions = model.predict(X) \n",
        " \n",
        "print_model = model.summary()\n",
        "print(print_model)"
      ],
      "metadata": {
        "id": "4l6xN7QNbGQs",
        "colab": {
          "base_uri": "https://localhost:8080/"
        },
        "outputId": "010c8276-f77d-4ffe-ada2-33eb0a245e18"
      },
      "execution_count": 27,
      "outputs": [
        {
          "output_type": "stream",
          "name": "stderr",
          "text": [
            "/usr/local/lib/python3.7/dist-packages/statsmodels/tsa/tsatools.py:117: FutureWarning: In a future version of pandas all arguments of concat except for the argument 'objs' will be keyword-only\n",
            "  x = pd.concat(x[::order], 1)\n"
          ]
        },
        {
          "output_type": "stream",
          "name": "stdout",
          "text": [
            "                            OLS Regression Results                            \n",
            "==============================================================================\n",
            "Dep. Variable:             POWER_lag0   R-squared:                       0.941\n",
            "Model:                            OLS   Adj. R-squared:                  0.940\n",
            "Method:                 Least Squares   F-statistic:                     570.4\n",
            "Date:                Tue, 03 May 2022   Prob (F-statistic):               0.00\n",
            "Time:                        11:52:57   Log-Likelihood:                -17818.\n",
            "No. Observations:                8404   AIC:                         3.610e+04\n",
            "Df Residuals:                    8173   BIC:                         3.772e+04\n",
            "Df Model:                         230                                         \n",
            "Covariance Type:            nonrobust                                         \n",
            "==========================================================================================\n",
            "                             coef    std err          t      P>|t|      [0.025      0.975]\n",
            "------------------------------------------------------------------------------------------\n",
            "const                      3.4773      0.231     15.035      0.000       3.024       3.931\n",
            "POWER_lag1                 0.3349      0.011     30.314      0.000       0.313       0.357\n",
            "POWER_lag2                 0.2170      0.012     18.624      0.000       0.194       0.240\n",
            "POWER_lag3                 0.1341      0.012     11.267      0.000       0.111       0.157\n",
            "POWER_lag4                 0.0519      0.012      4.328      0.000       0.028       0.075\n",
            "POWER_lag5                 0.0237      0.012      1.975      0.048       0.000       0.047\n",
            "POWER_lag6                 0.0317      0.012      2.642      0.008       0.008       0.055\n",
            "POWER_lag7               -9.9e-05      0.012     -0.008      0.993      -0.024       0.023\n",
            "POWER_lag8                -0.0215      0.012     -1.797      0.072      -0.045       0.002\n",
            "POWER_lag9                -0.0427      0.012     -3.565      0.000      -0.066      -0.019\n",
            "POWER_lag10               -0.0013      0.012     -0.107      0.914      -0.025       0.022\n",
            "POWER_lag11                0.0284      0.012      2.437      0.015       0.006       0.051\n",
            "POWER_lag12                0.0603      0.011      5.453      0.000       0.039       0.082\n",
            "Temperature_lag0          -0.4577      0.053     -8.601      0.000      -0.562      -0.353\n",
            "Temperature_lag1          -0.1058      0.092     -1.146      0.252      -0.287       0.075\n",
            "Temperature_lag2           0.3048      0.095      3.205      0.001       0.118       0.491\n",
            "Temperature_lag3          -0.0528      0.095     -0.555      0.579      -0.239       0.134\n",
            "Temperature_lag4           0.1382      0.095      1.452      0.147      -0.048       0.325\n",
            "Temperature_lag5           0.0450      0.095      0.472      0.637      -0.142       0.232\n",
            "Temperature_lag6          -0.0740      0.095     -0.776      0.438      -0.261       0.113\n",
            "Temperature_lag7           0.0397      0.095      0.417      0.677      -0.147       0.227\n",
            "Temperature_lag8           0.0103      0.095      0.108      0.914      -0.177       0.197\n",
            "Temperature_lag9          -0.0339      0.095     -0.355      0.722      -0.221       0.153\n",
            "Temperature_lag10          0.0679      0.095      0.713      0.476      -0.119       0.255\n",
            "Temperature_lag11         -0.0794      0.095     -0.833      0.405      -0.266       0.107\n",
            "Temperature_lag12         -0.0092      0.095     -0.097      0.923      -0.196       0.177\n",
            "Temperature_lag13          0.0271      0.095      0.284      0.776      -0.160       0.214\n",
            "Temperature_lag14          0.0245      0.095      0.258      0.797      -0.162       0.211\n",
            "Temperature_lag15         -0.0108      0.095     -0.114      0.910      -0.197       0.176\n",
            "Temperature_lag16         -0.0679      0.095     -0.713      0.476      -0.254       0.119\n",
            "Temperature_lag17          0.1527      0.095      1.605      0.109      -0.034       0.339\n",
            "Temperature_lag18         -0.1595      0.095     -1.677      0.094      -0.346       0.027\n",
            "Temperature_lag19          0.1741      0.095      1.833      0.067      -0.012       0.360\n",
            "Temperature_lag20         -0.0895      0.095     -0.942      0.346      -0.276       0.097\n",
            "Temperature_lag21         -0.0812      0.095     -0.855      0.392      -0.267       0.105\n",
            "Temperature_lag22          0.1363      0.095      1.441      0.150      -0.049       0.322\n",
            "Temperature_lag23         -0.1477      0.091     -1.617      0.106      -0.327       0.031\n",
            "Temperature_lag24          0.0798      0.051      1.565      0.118      -0.020       0.180\n",
            "Irradiation.flux_lag0     -0.0007      0.000     -1.523      0.128      -0.002       0.000\n",
            "Irradiation.flux_lag1     -0.0007      0.001     -1.192      0.233      -0.002       0.000\n",
            "Irradiation.flux_lag2      0.0007      0.001      1.062      0.288      -0.001       0.002\n",
            "Irradiation.flux_lag3      0.0010      0.001      1.575      0.115      -0.000       0.002\n",
            "Irradiation.flux_lag4      0.0001      0.001      0.161      0.872      -0.001       0.001\n",
            "Irradiation.flux_lag5      0.0006      0.001      0.893      0.372      -0.001       0.002\n",
            "Irradiation.flux_lag6      0.0005      0.001      0.745      0.456      -0.001       0.002\n",
            "Irradiation.flux_lag7     -0.0002      0.001     -0.362      0.717      -0.001       0.001\n",
            "Irradiation.flux_lag8     -0.0004      0.001     -0.697      0.486      -0.002       0.001\n",
            "Irradiation.flux_lag9     -0.0003      0.001     -0.516      0.606      -0.002       0.001\n",
            "Irradiation.flux_lag10     0.0003      0.001      0.420      0.674      -0.001       0.002\n",
            "Irradiation.flux_lag11    -0.0003      0.001     -0.466      0.641      -0.002       0.001\n",
            "Irradiation.flux_lag12    -0.0005      0.001     -0.829      0.407      -0.002       0.001\n",
            "Irradiation.flux_lag13  3.459e-05      0.001      0.054      0.957      -0.001       0.001\n",
            "Irradiation.flux_lag14     0.0004      0.001      0.632      0.527      -0.001       0.002\n",
            "Irradiation.flux_lag15    -0.0007      0.001     -1.061      0.289      -0.002       0.001\n",
            "Irradiation.flux_lag16     0.0007      0.001      1.058      0.290      -0.001       0.002\n",
            "Irradiation.flux_lag17   4.53e-06      0.001      0.007      0.994      -0.001       0.001\n",
            "Irradiation.flux_lag18    -0.0003      0.001     -0.395      0.693      -0.001       0.001\n",
            "Irradiation.flux_lag19     0.0003      0.001      0.475      0.635      -0.001       0.002\n",
            "Irradiation.flux_lag20    -0.0013      0.001     -1.971      0.049      -0.003   -6.91e-06\n",
            "Irradiation.flux_lag21     0.0013      0.001      1.982      0.047     1.4e-05       0.003\n",
            "Irradiation.flux_lag22  7.662e-05      0.001      0.120      0.904      -0.001       0.001\n",
            "Irradiation.flux_lag23    -0.0005      0.001     -0.729      0.466      -0.002       0.001\n",
            "Irradiation.flux_lag24  6.134e-05      0.000      0.128      0.898      -0.001       0.001\n",
            "Tuesday 0h                -0.1425      0.295     -0.483      0.629      -0.721       0.436\n",
            "Tuesday 1h                -0.8097      0.295     -2.745      0.006      -1.388      -0.231\n",
            "Tuesday 2h                -0.3318      0.295     -1.124      0.261      -0.910       0.247\n",
            "Tuesday 3h                -0.3651      0.295     -1.236      0.216      -0.944       0.214\n",
            "Tuesday 4h                -0.5971      0.295     -2.021      0.043      -1.176      -0.018\n",
            "Tuesday 5h                -0.2007      0.295     -0.679      0.497      -0.780       0.379\n",
            "Tuesday 6h                 1.0869      0.295      3.679      0.000       0.508       1.666\n",
            "Tuesday 7h                 0.6226      0.296      2.106      0.035       0.043       1.202\n",
            "Tuesday 8h                 1.4818      0.296      5.011      0.000       0.902       2.062\n",
            "Tuesday 9h                 0.1299      0.296      0.439      0.661      -0.450       0.710\n",
            "Tuesday 10h                0.0135      0.296      0.046      0.964      -0.566       0.593\n",
            "Tuesday 11h               -0.6745      0.296     -2.282      0.023      -1.254      -0.095\n",
            "Tuesday 12h               -0.2208      0.296     -0.747      0.455      -0.800       0.359\n",
            "Tuesday 13h               -0.1899      0.295     -0.643      0.520      -0.769       0.389\n",
            "Tuesday 14h               -0.5490      0.295     -1.862      0.063      -1.127       0.029\n",
            "Tuesday 15h               -0.3775      0.295     -1.281      0.200      -0.955       0.200\n",
            "Tuesday 16h                0.1099      0.294      0.373      0.709      -0.467       0.687\n",
            "Tuesday 17h                0.2233      0.294      0.759      0.448      -0.353       0.800\n",
            "Tuesday 18h                0.1879      0.294      0.639      0.523      -0.388       0.764\n",
            "Tuesday 19h                0.2221      0.294      0.756      0.450      -0.354       0.798\n",
            "Tuesday 20h                0.4031      0.294      1.372      0.170      -0.173       0.979\n",
            "Tuesday 21h                0.3259      0.294      1.110      0.267      -0.249       0.901\n",
            "Tuesday 22h               -0.3299      0.293     -1.124      0.261      -0.905       0.245\n",
            "Tuesday 23h                0.0934      0.293      0.318      0.750      -0.482       0.668\n",
            "Wednesday 0h              -0.2320      0.293     -0.791      0.429      -0.807       0.343\n",
            "Wednesday 1h              -0.4291      0.293     -1.463      0.143      -1.004       0.146\n",
            "Wednesday 2h              -0.5640      0.293     -1.923      0.055      -1.139       0.011\n",
            "Wednesday 3h              -0.5329      0.293     -1.816      0.069      -1.108       0.042\n",
            "Wednesday 4h              -0.2823      0.294     -0.962      0.336      -0.858       0.293\n",
            "Wednesday 5h              -0.2815      0.294     -0.959      0.338      -0.857       0.294\n",
            "Wednesday 6h               1.2034      0.294      4.099      0.000       0.628       1.779\n",
            "Wednesday 7h               1.0998      0.294      3.738      0.000       0.523       1.676\n",
            "Wednesday 8h               0.7329      0.295      2.485      0.013       0.155       1.311\n",
            "Wednesday 9h              -0.0838      0.295     -0.284      0.777      -0.663       0.495\n",
            "Wednesday 10h             -0.7812      0.295     -2.645      0.008      -1.360      -0.202\n",
            "Wednesday 11h             -0.2294      0.296     -0.776      0.438      -0.809       0.350\n",
            "Wednesday 12h              0.0052      0.296      0.018      0.986      -0.574       0.585\n",
            "Wednesday 13h             -0.6955      0.296     -2.352      0.019      -1.275      -0.116\n",
            "Wednesday 14h             -0.4832      0.296     -1.635      0.102      -1.063       0.096\n",
            "Wednesday 15h             -0.1480      0.296     -0.501      0.617      -0.727       0.431\n",
            "Wednesday 16h              0.0491      0.293      0.168      0.867      -0.524       0.623\n",
            "Wednesday 17h             -0.4990      0.292     -1.707      0.088      -1.072       0.074\n",
            "Wednesday 18h             -0.2964      0.292     -1.015      0.310      -0.869       0.276\n",
            "Wednesday 19h              0.3284      0.292      1.125      0.261      -0.244       0.901\n",
            "Wednesday 20h              0.2724      0.295      0.924      0.355      -0.305       0.850\n",
            "Wednesday 21h              0.1456      0.294      0.495      0.621      -0.432       0.723\n",
            "Wednesday 22h              0.7962      0.294      2.705      0.007       0.219       1.373\n",
            "Wednesday 23h              0.6049      0.295      2.054      0.040       0.028       1.182\n",
            "Thursday 0h               -0.1383      0.295     -0.470      0.639      -0.716       0.439\n",
            "Thursday 1h               -0.5174      0.294     -1.757      0.079      -1.095       0.060\n",
            "Thursday 2h               -0.4302      0.295     -1.460      0.144      -1.008       0.147\n",
            "Thursday 3h               -0.2477      0.295     -0.841      0.401      -0.825       0.330\n",
            "Thursday 4h                0.1081      0.295      0.367      0.714      -0.470       0.686\n",
            "Thursday 5h                0.0231      0.295      0.078      0.938      -0.555       0.601\n",
            "Thursday 6h                0.5827      0.295      1.978      0.048       0.005       1.160\n",
            "Thursday 7h                0.6512      0.295      2.210      0.027       0.074       1.229\n",
            "Thursday 8h                0.5726      0.295      1.943      0.052      -0.005       1.150\n",
            "Thursday 9h               -0.1495      0.295     -0.507      0.612      -0.728       0.429\n",
            "Thursday 10h              -0.1786      0.295     -0.606      0.545      -0.757       0.399\n",
            "Thursday 11h              -0.8276      0.295     -2.806      0.005      -1.406      -0.249\n",
            "Thursday 12h               0.0325      0.295      0.110      0.912      -0.546       0.611\n",
            "Thursday 13h              -0.0574      0.295     -0.195      0.846      -0.636       0.521\n",
            "Thursday 14h              -0.3812      0.295     -1.292      0.196      -0.960       0.197\n",
            "Thursday 15h              -0.0574      0.295     -0.195      0.846      -0.636       0.521\n",
            "Thursday 16h               0.1799      0.295      0.609      0.542      -0.399       0.759\n",
            "Thursday 17h              -0.4532      0.295     -1.536      0.125      -1.032       0.125\n",
            "Thursday 18h              -0.4230      0.295     -1.433      0.152      -1.002       0.156\n",
            "Thursday 19h               0.2605      0.295      0.883      0.378      -0.318       0.839\n",
            "Thursday 20h               0.2087      0.295      0.707      0.480      -0.370       0.787\n",
            "Thursday 21h               0.7110      0.295      2.410      0.016       0.133       1.289\n",
            "Thursday 22h               0.3996      0.295      1.354      0.176      -0.179       0.978\n",
            "Thursday 23h               0.6355      0.295      2.153      0.031       0.057       1.214\n",
            "Friday 0h                 -0.5504      0.295     -1.865      0.062      -1.129       0.028\n",
            "Friday 1h                 -0.1134      0.295     -0.384      0.701      -0.692       0.465\n",
            "Friday 2h                 -0.5205      0.295     -1.762      0.078      -1.099       0.058\n",
            "Friday 3h                 -0.0832      0.295     -0.281      0.778      -0.662       0.496\n",
            "Friday 4h                 -0.1190      0.296     -0.403      0.687      -0.698       0.460\n",
            "Friday 5h                 -0.1023      0.296     -0.346      0.729      -0.682       0.477\n",
            "Friday 6h                  0.9632      0.296      3.259      0.001       0.384       1.542\n",
            "Friday 7h                  0.5206      0.295      1.762      0.078      -0.059       1.100\n",
            "Friday 8h                  1.1945      0.296      4.041      0.000       0.615       1.774\n",
            "Friday 9h                 -0.1582      0.296     -0.535      0.593      -0.738       0.421\n",
            "Friday 10h                -0.4001      0.296     -1.353      0.176      -0.980       0.179\n",
            "Friday 11h                -0.6129      0.296     -2.073      0.038      -1.192      -0.033\n",
            "Friday 12h                -0.0319      0.295     -0.108      0.914      -0.611       0.547\n",
            "Friday 13h                 0.0860      0.295      0.291      0.771      -0.493       0.665\n",
            "Friday 14h                -0.5158      0.295     -1.746      0.081      -1.095       0.063\n",
            "Friday 15h                 0.1981      0.295      0.672      0.502      -0.380       0.776\n",
            "Friday 16h                 0.1003      0.295      0.340      0.734      -0.477       0.678\n",
            "Friday 17h                -0.3253      0.295     -1.104      0.269      -0.903       0.252\n",
            "Friday 18h                 0.1674      0.295      0.569      0.570      -0.410       0.745\n",
            "Friday 19h                 0.2751      0.295      0.934      0.350      -0.302       0.852\n",
            "Friday 20h                -0.1407      0.294     -0.478      0.633      -0.718       0.436\n",
            "Friday 21h                 0.3334      0.294      1.135      0.257      -0.243       0.909\n",
            "Friday 22h                 0.7665      0.294      2.609      0.009       0.191       1.342\n",
            "Friday 23h                -0.2124      0.294     -0.723      0.470      -0.788       0.364\n",
            "Saturday 0h               -0.0203      0.294     -0.069      0.945      -0.597       0.556\n",
            "Saturday 1h               -0.3618      0.294     -1.231      0.218      -0.938       0.214\n",
            "Saturday 2h               -0.2524      0.294     -0.859      0.391      -0.829       0.324\n",
            "Saturday 3h                0.0832      0.294      0.283      0.777      -0.493       0.660\n",
            "Saturday 4h               -0.2806      0.294     -0.954      0.340      -0.857       0.296\n",
            "Saturday 5h               -0.0944      0.294     -0.321      0.748      -0.671       0.482\n",
            "Saturday 6h                0.0091      0.294      0.031      0.975      -0.567       0.586\n",
            "Saturday 7h               -0.1550      0.294     -0.527      0.598      -0.732       0.422\n",
            "Saturday 8h                0.7932      0.295      2.690      0.007       0.215       1.371\n",
            "Saturday 9h                0.2328      0.295      0.789      0.430      -0.345       0.811\n",
            "Saturday 10h               0.0295      0.295      0.100      0.920      -0.549       0.608\n",
            "Saturday 11h               0.0527      0.295      0.179      0.858      -0.525       0.631\n",
            "Saturday 12h               0.1557      0.295      0.528      0.598      -0.423       0.734\n",
            "Saturday 13h               0.3434      0.295      1.164      0.245      -0.235       0.922\n",
            "Saturday 14h              -0.6901      0.295     -2.342      0.019      -1.268      -0.112\n",
            "Saturday 15h              -0.2593      0.295     -0.880      0.379      -0.837       0.318\n",
            "Saturday 16h              -0.0441      0.295     -0.150      0.881      -0.622       0.534\n",
            "Saturday 17h              -0.6114      0.295     -2.075      0.038      -1.189      -0.034\n",
            "Saturday 18h              -0.2855      0.295     -0.968      0.333      -0.864       0.293\n",
            "Saturday 19h               0.5858      0.295      1.986      0.047       0.008       1.164\n",
            "Saturday 20h               0.4412      0.295      1.496      0.135      -0.137       1.019\n",
            "Saturday 21h               0.0454      0.295      0.154      0.878      -0.532       0.623\n",
            "Saturday 22h               0.3110      0.295      1.055      0.291      -0.267       0.889\n",
            "Saturday 23h               0.5968      0.295      2.025      0.043       0.019       1.175\n",
            "Sunday 0h                 -0.5386      0.295     -1.827      0.068      -1.116       0.039\n",
            "Sunday 1h                 -0.8071      0.295     -2.738      0.006      -1.385      -0.229\n",
            "Sunday 2h                  0.0867      0.295      0.294      0.769      -0.491       0.665\n",
            "Sunday 3h                 -0.2038      0.295     -0.691      0.490      -0.782       0.374\n",
            "Sunday 4h                 -0.7156      0.295     -2.426      0.015      -1.294      -0.137\n",
            "Sunday 5h                 -0.2719      0.295     -0.921      0.357      -0.850       0.306\n",
            "Sunday 6h                  0.2111      0.295      0.716      0.474      -0.367       0.789\n",
            "Sunday 7h                  0.0818      0.295      0.277      0.782      -0.496       0.660\n",
            "Sunday 8h                  0.5123      0.295      1.738      0.082      -0.065       1.090\n",
            "Sunday 9h                  0.3031      0.295      1.028      0.304      -0.275       0.881\n",
            "Sunday 10h                 0.9978      0.295      3.384      0.001       0.420       1.576\n",
            "Sunday 11h                -0.0281      0.295     -0.095      0.924      -0.606       0.550\n",
            "Sunday 12h                 0.1560      0.295      0.529      0.597      -0.423       0.735\n",
            "Sunday 13h                -0.1964      0.295     -0.666      0.505      -0.774       0.382\n",
            "Sunday 14h                -0.6372      0.295     -2.163      0.031      -1.214      -0.060\n",
            "Sunday 15h                 0.3508      0.295      1.190      0.234      -0.227       0.929\n",
            "Sunday 16h                 0.4411      0.295      1.496      0.135      -0.137       1.019\n",
            "Sunday 17h                -0.0495      0.295     -0.168      0.867      -0.627       0.529\n",
            "Sunday 18h                 0.2221      0.295      0.753      0.451      -0.356       0.800\n",
            "Sunday 19h                 0.0921      0.295      0.313      0.755      -0.486       0.670\n",
            "Sunday 20h                 0.4037      0.295      1.370      0.171      -0.174       0.982\n",
            "Sunday 21h                 0.6679      0.295      2.266      0.023       0.090       1.246\n",
            "Sunday 22h                 0.2090      0.295      0.709      0.478      -0.369       0.787\n",
            "Sunday 23h                 0.2030      0.295      0.689      0.491      -0.375       0.781\n",
            "Monday 0h                 -0.3722      0.295     -1.263      0.206      -0.950       0.205\n",
            "Monday 1h                 -0.3356      0.295     -1.139      0.255      -0.913       0.242\n",
            "Monday 2h                 -0.4857      0.295     -1.648      0.099      -1.063       0.092\n",
            "Monday 3h                 -0.3455      0.295     -1.172      0.241      -0.923       0.232\n",
            "Monday 4h                 -0.5248      0.295     -1.780      0.075      -1.103       0.053\n",
            "Monday 5h                 -0.0067      0.295     -0.023      0.982      -0.585       0.571\n",
            "Monday 6h                  0.2069      0.295      0.702      0.483      -0.371       0.785\n",
            "Monday 7h                  0.3513      0.295      1.191      0.234      -0.227       0.930\n",
            "Monday 8h                  1.0933      0.295      3.701      0.000       0.514       1.672\n",
            "Monday 9h                  0.1490      0.296      0.503      0.615      -0.432       0.730\n",
            "Monday 10h                -0.3754      0.296     -1.267      0.205      -0.956       0.206\n",
            "Monday 11h                -0.1806      0.296     -0.609      0.542      -0.762       0.400\n",
            "Monday 12h                 0.3713      0.296      1.254      0.210      -0.209       0.952\n",
            "Monday 13h                -0.1885      0.296     -0.637      0.524      -0.769       0.392\n",
            "Monday 14h                -0.2443      0.296     -0.825      0.409      -0.825       0.336\n",
            "Monday 15h                -0.4722      0.296     -1.598      0.110      -1.051       0.107\n",
            "Monday 16h                -0.1345      0.295     -0.455      0.649      -0.714       0.445\n",
            "Monday 17h                 0.1117      0.295      0.378      0.705      -0.468       0.691\n",
            "Monday 18h                 0.2607      0.295      0.882      0.378      -0.318       0.840\n",
            "Monday 19h                 0.0992      0.295      0.336      0.737      -0.480       0.678\n",
            "Monday 20h                 0.2909      0.295      0.985      0.325      -0.288       0.870\n",
            "Monday 21h                 0.5033      0.295      1.706      0.088      -0.075       1.082\n",
            "Monday 22h                 0.6344      0.295      2.151      0.032       0.056       1.213\n",
            "Monday 23h                -0.0787      0.295     -0.267      0.790      -0.657       0.500\n",
            "Bank Holidays             -0.0680      0.130     -0.524      0.600      -0.322       0.186\n",
            "==============================================================================\n",
            "Omnibus:                      713.270   Durbin-Watson:                   2.004\n",
            "Prob(Omnibus):                  0.000   Jarque-Bera (JB):             1627.419\n",
            "Skew:                           0.530   Prob(JB):                         0.00\n",
            "Kurtosis:                       4.877   Cond. No.                     1.44e+19\n",
            "==============================================================================\n",
            "\n",
            "Warnings:\n",
            "[1] Standard Errors assume that the covariance matrix of the errors is correctly specified.\n",
            "[2] The smallest eigenvalue is 2.59e-29. This might indicate that there are\n",
            "strong multicollinearity problems or that the design matrix is singular.\n"
          ]
        }
      ]
    },
    {
      "cell_type": "code",
      "source": [
        "\n"
      ],
      "metadata": {
        "id": "aE2R7ufmY_Q2"
      },
      "execution_count": null,
      "outputs": []
    },
    {
      "cell_type": "code",
      "source": [
        ""
      ],
      "metadata": {
        "id": "NP2Ft_UPZKLz"
      },
      "execution_count": null,
      "outputs": []
    },
    {
      "cell_type": "code",
      "source": [
        ""
      ],
      "metadata": {
        "id": "yixO6CKd0Vhy"
      },
      "execution_count": null,
      "outputs": []
    },
    {
      "cell_type": "code",
      "source": [
        ""
      ],
      "metadata": {
        "id": "BGeWh3hY0kqX"
      },
      "execution_count": null,
      "outputs": []
    },
    {
      "cell_type": "code",
      "source": [
        " "
      ],
      "metadata": {
        "id": "UZ2mWl4n0mCO"
      },
      "execution_count": null,
      "outputs": []
    }
  ],
  "metadata": {
    "colab": {
      "name": "Test Model Building.ipynb",
      "provenance": [],
      "authorship_tag": "ABX9TyOg/pGw/d1yB6hNrZKSn7JB",
      "include_colab_link": true
    },
    "kernelspec": {
      "display_name": "Python 3",
      "name": "python3"
    },
    "language_info": {
      "name": "python"
    }
  },
  "nbformat": 4,
  "nbformat_minor": 0
}