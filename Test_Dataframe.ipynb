{
  "cells": [
    {
      "cell_type": "markdown",
      "metadata": {
        "id": "view-in-github",
        "colab_type": "text"
      },
      "source": [
        "<a href=\"https://colab.research.google.com/github/hajri94/research-project/blob/main/Test_Dataframe.ipynb\" target=\"_parent\"><img src=\"https://colab.research.google.com/assets/colab-badge.svg\" alt=\"Open In Colab\"/></a>"
      ]
    },
    {
      "cell_type": "code",
      "execution_count": 43,
      "metadata": {
        "id": "Ikd8yW4LgmEz"
      },
      "outputs": [],
      "source": [
        "import numpy as np\n",
        "import pandas as pd\n",
        "import datetime as dt \n",
        "import matplotlib.pyplot as plt\n",
        "from numpy import percentile\n"
      ]
    },
    {
      "cell_type": "code",
      "execution_count": 44,
      "metadata": {
        "colab": {
          "base_uri": "https://localhost:8080/",
          "height": 74,
          "resources": {
            "http://localhost:8080/nbextensions/google.colab/files.js": {
              "data": "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",
              "headers": [
                [
                  "content-type",
                  "application/javascript"
                ]
              ],
              "ok": true,
              "status": 200,
              "status_text": ""
            }
          }
        },
        "id": "Lxuh7Ll-iyQb",
        "outputId": "b1bcff17-00d3-44f1-b453-a9ae90eedfbc"
      },
      "outputs": [
        {
          "output_type": "display_data",
          "data": {
            "text/plain": [
              "<IPython.core.display.HTML object>"
            ],
            "text/html": [
              "\n",
              "     <input type=\"file\" id=\"files-222c09f4-3a2a-495a-9612-c3d95f453594\" name=\"files[]\" multiple disabled\n",
              "        style=\"border:none\" />\n",
              "     <output id=\"result-222c09f4-3a2a-495a-9612-c3d95f453594\">\n",
              "      Upload widget is only available when the cell has been executed in the\n",
              "      current browser session. Please rerun this cell to enable.\n",
              "      </output>\n",
              "      <script src=\"/nbextensions/google.colab/files.js\"></script> "
            ]
          },
          "metadata": {}
        },
        {
          "output_type": "stream",
          "name": "stdout",
          "text": [
            "Saving Test dataframe 10259.xlsx to Test dataframe 10259 (2).xlsx\n"
          ]
        }
      ],
      "source": [
        "# We download the excel file\n",
        "from google.colab import files\n",
        "uploaded = files.upload()"
      ]
    },
    {
      "cell_type": "code",
      "execution_count": null,
      "metadata": {
        "id": "1u3e3dqxw4mD"
      },
      "outputs": [],
      "source": [
        "# Convert the excel file into pandas Dataframe\n",
        "import io \n",
        "df = pd.read_excel(io.BytesIO(uploaded['Test dataframe 10259.xlsx']))\n",
        "# We round the columns (POWER , Temperature, Irradiation.flux) to one decimal place.\n",
        "df['Temperature']=df['Temperature'].round(1)\n",
        "df['Irradiation.flux']=df['Irradiation.flux'].round(1)\n",
        "df\n",
        "\n",
        "\n"
      ]
    },
    {
      "cell_type": "code",
      "execution_count": 70,
      "metadata": {
        "id": "W-IFCpLnPXgU",
        "colab": {
          "base_uri": "https://localhost:8080/",
          "height": 424
        },
        "outputId": "289296d9-1c52-409f-e21c-18ed061cc3c2"
      },
      "outputs": [
        {
          "output_type": "execute_result",
          "data": {
            "text/plain": [
              "      POWER_lag0  POWER_lag1  POWER_lag2  POWER_lag3  POWER_lag4  POWER_lag5  \\\n",
              "12            19          19          19          17          18          18   \n",
              "13            18          19          19          19          17          18   \n",
              "14            17          18          19          19          19          17   \n",
              "15            18          17          18          19          19          19   \n",
              "16            17          18          17          18          19          19   \n",
              "...          ...         ...         ...         ...         ...         ...   \n",
              "8755          18          18          21          19          16          17   \n",
              "8756          17          18          18          21          19          16   \n",
              "8757          22          17          18          18          21          19   \n",
              "8758          17          22          17          18          18          21   \n",
              "8759          23          17          22          17          18          18   \n",
              "\n",
              "      POWER_lag6  POWER_lag7  POWER_lag8  POWER_lag9  POWER_lag10  \\\n",
              "12            17          18          18          21           18   \n",
              "13            18          17          18          18           21   \n",
              "14            18          18          17          18           18   \n",
              "15            17          18          18          17           18   \n",
              "16            19          17          18          18           17   \n",
              "...          ...         ...         ...         ...          ...   \n",
              "8755          15          16          17          16           16   \n",
              "8756          17          15          16          17           16   \n",
              "8757          16          17          15          16           17   \n",
              "8758          19          16          17          15           16   \n",
              "8759          21          19          16          17           15   \n",
              "\n",
              "      POWER_lag11  POWER_lag12  \n",
              "12             18           23  \n",
              "13             18           18  \n",
              "14             21           18  \n",
              "15             18           21  \n",
              "16             18           18  \n",
              "...           ...          ...  \n",
              "8755           16           17  \n",
              "8756           16           16  \n",
              "8757           16           16  \n",
              "8758           17           16  \n",
              "8759           16           17  \n",
              "\n",
              "[8748 rows x 13 columns]"
            ],
            "text/html": [
              "\n",
              "  <div id=\"df-5231cab4-fa8c-4fac-8382-91687e0d85af\">\n",
              "    <div class=\"colab-df-container\">\n",
              "      <div>\n",
              "<style scoped>\n",
              "    .dataframe tbody tr th:only-of-type {\n",
              "        vertical-align: middle;\n",
              "    }\n",
              "\n",
              "    .dataframe tbody tr th {\n",
              "        vertical-align: top;\n",
              "    }\n",
              "\n",
              "    .dataframe thead th {\n",
              "        text-align: right;\n",
              "    }\n",
              "</style>\n",
              "<table border=\"1\" class=\"dataframe\">\n",
              "  <thead>\n",
              "    <tr style=\"text-align: right;\">\n",
              "      <th></th>\n",
              "      <th>POWER_lag0</th>\n",
              "      <th>POWER_lag1</th>\n",
              "      <th>POWER_lag2</th>\n",
              "      <th>POWER_lag3</th>\n",
              "      <th>POWER_lag4</th>\n",
              "      <th>POWER_lag5</th>\n",
              "      <th>POWER_lag6</th>\n",
              "      <th>POWER_lag7</th>\n",
              "      <th>POWER_lag8</th>\n",
              "      <th>POWER_lag9</th>\n",
              "      <th>POWER_lag10</th>\n",
              "      <th>POWER_lag11</th>\n",
              "      <th>POWER_lag12</th>\n",
              "    </tr>\n",
              "  </thead>\n",
              "  <tbody>\n",
              "    <tr>\n",
              "      <th>12</th>\n",
              "      <td>19</td>\n",
              "      <td>19</td>\n",
              "      <td>19</td>\n",
              "      <td>17</td>\n",
              "      <td>18</td>\n",
              "      <td>18</td>\n",
              "      <td>17</td>\n",
              "      <td>18</td>\n",
              "      <td>18</td>\n",
              "      <td>21</td>\n",
              "      <td>18</td>\n",
              "      <td>18</td>\n",
              "      <td>23</td>\n",
              "    </tr>\n",
              "    <tr>\n",
              "      <th>13</th>\n",
              "      <td>18</td>\n",
              "      <td>19</td>\n",
              "      <td>19</td>\n",
              "      <td>19</td>\n",
              "      <td>17</td>\n",
              "      <td>18</td>\n",
              "      <td>18</td>\n",
              "      <td>17</td>\n",
              "      <td>18</td>\n",
              "      <td>18</td>\n",
              "      <td>21</td>\n",
              "      <td>18</td>\n",
              "      <td>18</td>\n",
              "    </tr>\n",
              "    <tr>\n",
              "      <th>14</th>\n",
              "      <td>17</td>\n",
              "      <td>18</td>\n",
              "      <td>19</td>\n",
              "      <td>19</td>\n",
              "      <td>19</td>\n",
              "      <td>17</td>\n",
              "      <td>18</td>\n",
              "      <td>18</td>\n",
              "      <td>17</td>\n",
              "      <td>18</td>\n",
              "      <td>18</td>\n",
              "      <td>21</td>\n",
              "      <td>18</td>\n",
              "    </tr>\n",
              "    <tr>\n",
              "      <th>15</th>\n",
              "      <td>18</td>\n",
              "      <td>17</td>\n",
              "      <td>18</td>\n",
              "      <td>19</td>\n",
              "      <td>19</td>\n",
              "      <td>19</td>\n",
              "      <td>17</td>\n",
              "      <td>18</td>\n",
              "      <td>18</td>\n",
              "      <td>17</td>\n",
              "      <td>18</td>\n",
              "      <td>18</td>\n",
              "      <td>21</td>\n",
              "    </tr>\n",
              "    <tr>\n",
              "      <th>16</th>\n",
              "      <td>17</td>\n",
              "      <td>18</td>\n",
              "      <td>17</td>\n",
              "      <td>18</td>\n",
              "      <td>19</td>\n",
              "      <td>19</td>\n",
              "      <td>19</td>\n",
              "      <td>17</td>\n",
              "      <td>18</td>\n",
              "      <td>18</td>\n",
              "      <td>17</td>\n",
              "      <td>18</td>\n",
              "      <td>18</td>\n",
              "    </tr>\n",
              "    <tr>\n",
              "      <th>...</th>\n",
              "      <td>...</td>\n",
              "      <td>...</td>\n",
              "      <td>...</td>\n",
              "      <td>...</td>\n",
              "      <td>...</td>\n",
              "      <td>...</td>\n",
              "      <td>...</td>\n",
              "      <td>...</td>\n",
              "      <td>...</td>\n",
              "      <td>...</td>\n",
              "      <td>...</td>\n",
              "      <td>...</td>\n",
              "      <td>...</td>\n",
              "    </tr>\n",
              "    <tr>\n",
              "      <th>8755</th>\n",
              "      <td>18</td>\n",
              "      <td>18</td>\n",
              "      <td>21</td>\n",
              "      <td>19</td>\n",
              "      <td>16</td>\n",
              "      <td>17</td>\n",
              "      <td>15</td>\n",
              "      <td>16</td>\n",
              "      <td>17</td>\n",
              "      <td>16</td>\n",
              "      <td>16</td>\n",
              "      <td>16</td>\n",
              "      <td>17</td>\n",
              "    </tr>\n",
              "    <tr>\n",
              "      <th>8756</th>\n",
              "      <td>17</td>\n",
              "      <td>18</td>\n",
              "      <td>18</td>\n",
              "      <td>21</td>\n",
              "      <td>19</td>\n",
              "      <td>16</td>\n",
              "      <td>17</td>\n",
              "      <td>15</td>\n",
              "      <td>16</td>\n",
              "      <td>17</td>\n",
              "      <td>16</td>\n",
              "      <td>16</td>\n",
              "      <td>16</td>\n",
              "    </tr>\n",
              "    <tr>\n",
              "      <th>8757</th>\n",
              "      <td>22</td>\n",
              "      <td>17</td>\n",
              "      <td>18</td>\n",
              "      <td>18</td>\n",
              "      <td>21</td>\n",
              "      <td>19</td>\n",
              "      <td>16</td>\n",
              "      <td>17</td>\n",
              "      <td>15</td>\n",
              "      <td>16</td>\n",
              "      <td>17</td>\n",
              "      <td>16</td>\n",
              "      <td>16</td>\n",
              "    </tr>\n",
              "    <tr>\n",
              "      <th>8758</th>\n",
              "      <td>17</td>\n",
              "      <td>22</td>\n",
              "      <td>17</td>\n",
              "      <td>18</td>\n",
              "      <td>18</td>\n",
              "      <td>21</td>\n",
              "      <td>19</td>\n",
              "      <td>16</td>\n",
              "      <td>17</td>\n",
              "      <td>15</td>\n",
              "      <td>16</td>\n",
              "      <td>17</td>\n",
              "      <td>16</td>\n",
              "    </tr>\n",
              "    <tr>\n",
              "      <th>8759</th>\n",
              "      <td>23</td>\n",
              "      <td>17</td>\n",
              "      <td>22</td>\n",
              "      <td>17</td>\n",
              "      <td>18</td>\n",
              "      <td>18</td>\n",
              "      <td>21</td>\n",
              "      <td>19</td>\n",
              "      <td>16</td>\n",
              "      <td>17</td>\n",
              "      <td>15</td>\n",
              "      <td>16</td>\n",
              "      <td>17</td>\n",
              "    </tr>\n",
              "  </tbody>\n",
              "</table>\n",
              "<p>8748 rows × 13 columns</p>\n",
              "</div>\n",
              "      <button class=\"colab-df-convert\" onclick=\"convertToInteractive('df-5231cab4-fa8c-4fac-8382-91687e0d85af')\"\n",
              "              title=\"Convert this dataframe to an interactive table.\"\n",
              "              style=\"display:none;\">\n",
              "        \n",
              "  <svg xmlns=\"http://www.w3.org/2000/svg\" height=\"24px\"viewBox=\"0 0 24 24\"\n",
              "       width=\"24px\">\n",
              "    <path d=\"M0 0h24v24H0V0z\" fill=\"none\"/>\n",
              "    <path d=\"M18.56 5.44l.94 2.06.94-2.06 2.06-.94-2.06-.94-.94-2.06-.94 2.06-2.06.94zm-11 1L8.5 8.5l.94-2.06 2.06-.94-2.06-.94L8.5 2.5l-.94 2.06-2.06.94zm10 10l.94 2.06.94-2.06 2.06-.94-2.06-.94-.94-2.06-.94 2.06-2.06.94z\"/><path d=\"M17.41 7.96l-1.37-1.37c-.4-.4-.92-.59-1.43-.59-.52 0-1.04.2-1.43.59L10.3 9.45l-7.72 7.72c-.78.78-.78 2.05 0 2.83L4 21.41c.39.39.9.59 1.41.59.51 0 1.02-.2 1.41-.59l7.78-7.78 2.81-2.81c.8-.78.8-2.07 0-2.86zM5.41 20L4 18.59l7.72-7.72 1.47 1.35L5.41 20z\"/>\n",
              "  </svg>\n",
              "      </button>\n",
              "      \n",
              "  <style>\n",
              "    .colab-df-container {\n",
              "      display:flex;\n",
              "      flex-wrap:wrap;\n",
              "      gap: 12px;\n",
              "    }\n",
              "\n",
              "    .colab-df-convert {\n",
              "      background-color: #E8F0FE;\n",
              "      border: none;\n",
              "      border-radius: 50%;\n",
              "      cursor: pointer;\n",
              "      display: none;\n",
              "      fill: #1967D2;\n",
              "      height: 32px;\n",
              "      padding: 0 0 0 0;\n",
              "      width: 32px;\n",
              "    }\n",
              "\n",
              "    .colab-df-convert:hover {\n",
              "      background-color: #E2EBFA;\n",
              "      box-shadow: 0px 1px 2px rgba(60, 64, 67, 0.3), 0px 1px 3px 1px rgba(60, 64, 67, 0.15);\n",
              "      fill: #174EA6;\n",
              "    }\n",
              "\n",
              "    [theme=dark] .colab-df-convert {\n",
              "      background-color: #3B4455;\n",
              "      fill: #D2E3FC;\n",
              "    }\n",
              "\n",
              "    [theme=dark] .colab-df-convert:hover {\n",
              "      background-color: #434B5C;\n",
              "      box-shadow: 0px 1px 3px 1px rgba(0, 0, 0, 0.15);\n",
              "      filter: drop-shadow(0px 1px 2px rgba(0, 0, 0, 0.3));\n",
              "      fill: #FFFFFF;\n",
              "    }\n",
              "  </style>\n",
              "\n",
              "      <script>\n",
              "        const buttonEl =\n",
              "          document.querySelector('#df-5231cab4-fa8c-4fac-8382-91687e0d85af button.colab-df-convert');\n",
              "        buttonEl.style.display =\n",
              "          google.colab.kernel.accessAllowed ? 'block' : 'none';\n",
              "\n",
              "        async function convertToInteractive(key) {\n",
              "          const element = document.querySelector('#df-5231cab4-fa8c-4fac-8382-91687e0d85af');\n",
              "          const dataTable =\n",
              "            await google.colab.kernel.invokeFunction('convertToInteractive',\n",
              "                                                     [key], {});\n",
              "          if (!dataTable) return;\n",
              "\n",
              "          const docLinkHtml = 'Like what you see? Visit the ' +\n",
              "            '<a target=\"_blank\" href=https://colab.research.google.com/notebooks/data_table.ipynb>data table notebook</a>'\n",
              "            + ' to learn more about interactive tables.';\n",
              "          element.innerHTML = '';\n",
              "          dataTable['output_type'] = 'display_data';\n",
              "          await google.colab.output.renderOutput(dataTable, element);\n",
              "          const docLink = document.createElement('div');\n",
              "          docLink.innerHTML = docLinkHtml;\n",
              "          element.appendChild(docLink);\n",
              "        }\n",
              "      </script>\n",
              "    </div>\n",
              "  </div>\n",
              "  "
            ]
          },
          "metadata": {},
          "execution_count": 70
        }
      ],
      "source": [
        "# We create multiple POWER lagged columns (we choose 12 lagged dependent variables  ) \n",
        "lagged1 = pd.concat([df['POWER'].shift(lag).rename('{}_lag{}'.format(df['POWER'].name, lag)) for lag in range(13)], axis=1)\n",
        "lagged1.dropna().astype(int)\n",
        "\n",
        "\n",
        "\n"
      ]
    },
    {
      "cell_type": "code",
      "execution_count": null,
      "metadata": {
        "id": "49jTp_4_BmP_"
      },
      "outputs": [],
      "source": [
        "# We create multiple Temperature lagged columns (we choose 24 lagged independent variables)\n",
        "lagged2 = pd.concat([df['Temperature'].shift(lag).rename('{}_lag{}'.format(df['Temperature'].name, lag)) for lag in range(25)], axis=1)\n",
        "lagged2.dropna().astype(int)"
      ]
    },
    {
      "cell_type": "code",
      "execution_count": null,
      "metadata": {
        "id": "4FAs4LgxCysp"
      },
      "outputs": [],
      "source": [
        "# We create multiple Irradiation.flux lagged columns(we choose 24 lagged independent variables)\n",
        "lagged3 = pd.concat([df['Irradiation.flux'].shift(lag).rename('{}_lag{}'.format(df['Irradiation.flux'].name, lag)) for lag in range(25)], axis=1)\n",
        "lagged1.dropna().astype(int)\n"
      ]
    },
    {
      "cell_type": "code",
      "execution_count": null,
      "metadata": {
        "id": "rgFa6-k7DcSL"
      },
      "outputs": [],
      "source": [
        "# Maximize the size of Column in google colab \n",
        "#(we resize the maximum number of columns in google colab to fit our dataframe)\n",
        "from google.colab.data_table import DataTable\n",
        "DataTable.max_columns = 300\n",
        "# Joining the DataFrame of POWER Lagged Columns to the Dataframe of Temperature Lagged Columns \n",
        "# We use the concat function to join 2 dataframes lagged1 (POWER) + lagged2 (Temperature) => Creation of new dataframe called \"result\".\n",
        "result = pd.concat([lagged1,lagged2], axis=1, join='inner')\n",
        "result.dropna().astype(int)"
      ]
    },
    {
      "cell_type": "code",
      "execution_count": null,
      "metadata": {
        "id": "kQkfQEqn8L79"
      },
      "outputs": [],
      "source": [
        "#Joining the DataFrame of POWER and Temperature Lagged Columns (POWER+Temperature=> result dataframe) to the Dataframe of Irradiation flux Lagged Columns \n",
        "# We use the concat function to join 2 dataframes result (POWER+Temperature) + lagged3 (Irradiation flux)  => Creation of new dataframe called \"result1\"\n",
        "result1 = pd.concat([result,lagged3], axis=1, join='inner')\n",
        "r1=result1.dropna().astype(int)\n",
        "r1"
      ]
    },
    {
      "cell_type": "code",
      "execution_count": null,
      "metadata": {
        "id": "823uqPdoIF52"
      },
      "outputs": [],
      "source": [
        "# We join the \"Result1\" Dataframe (Power , Temperature, Irradiation flux ) to the original dataframe (the one that we have uploaded from excel)\n",
        "# we perform this line of code in order to link the two columns (READ_DATE),(Week_Day) to the datframe (result2). \n",
        "# The new dataframe need to be more organized as we see some columns that are repeated. \n",
        "result2 = pd.concat([r1,df], axis=1, join='inner')\n",
        "#we remove the columns titled (POWER , Temperature, Irradiation flux)\n",
        "dk=result2.drop(['POWER', 'Temperature','Irradiation.flux'], axis = 1) \n",
        "# To move the Read_Date and Week Date columns to first Position we implement some initial step: \n",
        "# First we remove the targeted column \"Week_Day\" from its intial position in the dataframe.  \n",
        "first_column = dk.pop('Week_Day')\n",
        "# Second we insert the removed column \"Week_Day\" to first position.\n",
        "dk.insert(0, 'Week_Day', first_column)\n",
        "# We perform the previous step for the \"READ_DATE\" column.\n",
        "second_column = dk.pop('READ_DATE')\n",
        "dk.insert(0, 'READ_DATE', second_column)\n",
        "dk"
      ]
    },
    {
      "cell_type": "code",
      "execution_count": 57,
      "metadata": {
        "colab": {
          "base_uri": "https://localhost:8080/",
          "height": 74,
          "resources": {
            "http://localhost:8080/nbextensions/google.colab/files.js": {
              "data": "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",
              "headers": [
                [
                  "content-type",
                  "application/javascript"
                ]
              ],
              "ok": true,
              "status": 200,
              "status_text": ""
            }
          }
        },
        "id": "W5m2hqwOavt8",
        "outputId": "0c447606-c2d3-4daa-84a4-d7ed369a2007"
      },
      "outputs": [
        {
          "output_type": "display_data",
          "data": {
            "text/plain": [
              "<IPython.core.display.HTML object>"
            ],
            "text/html": [
              "\n",
              "     <input type=\"file\" id=\"files-a785dc39-9001-4918-82d8-e61e4ee39c4d\" name=\"files[]\" multiple disabled\n",
              "        style=\"border:none\" />\n",
              "     <output id=\"result-a785dc39-9001-4918-82d8-e61e4ee39c4d\">\n",
              "      Upload widget is only available when the cell has been executed in the\n",
              "      current browser session. Please rerun this cell to enable.\n",
              "      </output>\n",
              "      <script src=\"/nbextensions/google.colab/files.js\"></script> "
            ]
          },
          "metadata": {}
        },
        {
          "output_type": "stream",
          "name": "stdout",
          "text": [
            "Saving calendar Data .xlsx to calendar Data  (2).xlsx\n"
          ]
        }
      ],
      "source": [
        "# After creating the new dataframe (called dk), we link it to calendar data table  which is put in an excel file to carry out this step :  \n",
        "# We download the calendar data excel file\n",
        "from google.colab import files\n",
        "uploaded = files.upload()"
      ]
    },
    {
      "cell_type": "code",
      "execution_count": 79,
      "metadata": {
        "id": "tIyPTovgsWY4"
      },
      "outputs": [],
      "source": [
        "# Convert the excel file into Dataframe\n",
        "import io \n",
        "dm = pd.read_excel(io.BytesIO(uploaded['calendar Data .xlsx']))\n",
        "#In the \"Bank Holidays\" column we replace the NaN value with zeros.\n",
        "dm['Bank Holidays'] = dm['Bank Holidays'].fillna(0)\n",
        "# we remove the \"READ_DATE\" and \"Week_Day\" columns to avoid the Repetition of these column when linking it to the dataframe \"Dk\" \n",
        "remove_column = dm.pop('READ_DATE')\n",
        "remove2_column = dm.pop('Week_Day')\n"
      ]
    },
    {
      "cell_type": "code",
      "source": [
        "dm.dtypes\n",
        "dm['Bank Holidays'] = dm['Bank Holidays'].astype(int)"
      ],
      "metadata": {
        "id": "wx4JWPNc7H2A"
      },
      "execution_count": 82,
      "outputs": []
    },
    {
      "cell_type": "code",
      "execution_count": null,
      "metadata": {
        "id": "Sxyna9q0uSei"
      },
      "outputs": [],
      "source": [
        "# we join the the calendar data dataframe uploaded from excel file to the dataframe \"Dk\" \n",
        "result3 = pd.concat([dk,dm], axis=1, join='inner')\n",
        "result3\n"
      ]
    },
    {
      "cell_type": "code",
      "execution_count": null,
      "metadata": {
        "id": "UKLxLAV4yHr9"
      },
      "outputs": [],
      "source": [
        "#we move the postion of  \"Hour_day\" column to first position .\n",
        "column = result3.pop('Hour_day')\n",
        "result3.insert(0, 'Hour_day', column)\n",
        "# We drop the nan value from the dataframe\n",
        "r3=result3.dropna()\n",
        "r3\n",
        "\n",
        "\n"
      ]
    },
    {
      "cell_type": "code",
      "source": [
        "# With this code we can perform the fitering of each of the \"Hour_day\" value.  \n",
        "HourWeek=result3[result3['Hour_day']== 1]"
      ],
      "metadata": {
        "id": "fppG6FNQO5WT"
      },
      "execution_count": 36,
      "outputs": []
    },
    {
      "cell_type": "code",
      "execution_count": 91,
      "metadata": {
        "id": "5lybJ05UJSF_"
      },
      "outputs": [],
      "source": [
        "#Separation of indeppendent variables and dependent variables\n",
        "\n",
        "import pandas as pd\n",
        "import statsmodels.api as sm\n",
        "X = r3[['POWER_lag1','POWER_lag2','POWER_lag3','POWER_lag4','POWER_lag5','POWER_lag6','POWER_lag7','POWER_lag8','POWER_lag9','POWER_lag10','POWER_lag11','POWER_lag12',\n",
        "        'Temperature_lag0','Temperature_lag1','Temperature_lag2','Temperature_lag3','Temperature_lag4','Temperature_lag5','Temperature_lag6','Temperature_lag7','Temperature_lag8',\n",
        "        'Temperature_lag9','Temperature_lag10','Temperature_lag11','Temperature_lag12','Temperature_lag13','Temperature_lag14','Temperature_lag15','Temperature_lag16','Temperature_lag17','Temperature_lag18','Temperature_lag19','Temperature_lag20','Temperature_lag21','Temperature_lag22','Temperature_lag23','Temperature_lag24',\n",
        "        'Irradiation.flux_lag0','Irradiation.flux_lag1','Irradiation.flux_lag2','Irradiation.flux_lag3','Irradiation.flux_lag4','Irradiation.flux_lag5','Irradiation.flux_lag6','Irradiation.flux_lag7','Irradiation.flux_lag8','Irradiation.flux_lag9','Irradiation.flux_lag10','Irradiation.flux_lag11','Irradiation.flux_lag12','Irradiation.flux_lag13','Irradiation.flux_lag14','Irradiation.flux_lag15','Irradiation.flux_lag16','Irradiation.flux_lag17','Irradiation.flux_lag18','Irradiation.flux_lag19','Irradiation.flux_lag20','Irradiation.flux_lag21','Irradiation.flux_lag22','Irradiation.flux_lag23',\n",
        "        'Irradiation.flux_lag24','Tuesday 0h','Tuesday 1h','Tuesday 2h','Tuesday 3h','Tuesday 4h','Tuesday 5h','Tuesday 6h','Tuesday 7h','Tuesday 8h','Tuesday 9h','Tuesday 10h','Tuesday 11h','Tuesday 12h','Tuesday 13h','Tuesday 14h',\n",
        "        'Tuesday 15h','Tuesday 16h','Tuesday 17h','Tuesday 18h','Tuesday 19h','Tuesday 20h','Tuesday 21h','Tuesday 22h','Tuesday 23h','Wednesday 0h','Wednesday 1h','Wednesday 2h','Wednesday 3h','Wednesday 4h','Wednesday 5h','Wednesday 6h','Wednesday 7h','Wednesday 8h','Wednesday 9h','Wednesday 10h','Wednesday 11h','Wednesday 12h','Wednesday 13h','Wednesday 14h',\n",
        "        'Wednesday 15h','Wednesday 16h','Wednesday 17h','Wednesday 18h','Wednesday 19h','Wednesday 20h','Wednesday 21h','Wednesday 22h','Wednesday 23h','Thursday 0h','Thursday 1h','Thursday 2h','Thursday 3h','Thursday 4h','Thursday 5h','Thursday 6h','Thursday 7h','Thursday 8h','Thursday 9h','Thursday 10h','Thursday 11h','Thursday 12h','Thursday 13h','Thursday 14h',\n",
        "        'Thursday 15h','Thursday 16h','Thursday 17h','Thursday 18h','Thursday 19h','Thursday 20h','Thursday 21h','Thursday 22h','Thursday 23h','Friday 0h','Friday 1h','Friday 2h','Friday 3h','Friday 4h','Friday 5h','Friday 6h','Friday 7h','Friday 8h','Friday 9h','Friday 10h','Friday 11h','Friday 12h','Friday 13h','Friday 14h',\n",
        "        'Friday 15h','Friday 16h','Friday 17h','Friday 18h','Friday 19h','Friday 20h','Friday 21h','Friday 22h','Friday 23h','Saturday 0h','Saturday 1h','Saturday 2h','Saturday 3h','Saturday 4h','Saturday 5h','Saturday 6h','Saturday 7h','Saturday 8h','Saturday 9h','Saturday 10h','Saturday 11h','Saturday 12h','Saturday 13h','Saturday 14h',\n",
        "        'Saturday 15h','Saturday 16h','Saturday 17h','Saturday 18h','Saturday 19h','Saturday 20h','Saturday 21h','Saturday 22h','Saturday 23h','Sunday 0h','Sunday 1h','Sunday 2h','Sunday 3h','Sunday 4h','Sunday 5h','Sunday 6h','Sunday 7h','Sunday 8h','Sunday 9h','Sunday 10h','Sunday 11h','Sunday 12h','Sunday 13h','Sunday 14h',\n",
        "        'Sunday 15h','Sunday 16h','Sunday 17h','Sunday 18h','Sunday 19h','Sunday 20h','Sunday 21h','Sunday 22h','Sunday 23h','Monday 0h','Monday 1h','Monday 2h','Monday 3h','Monday 4h','Monday 5h','Monday 6h','Monday 7h','Monday 8h','Monday 9h','Monday 10h','Monday 11h','Monday 12h','Monday 13h','Monday 14h',\n",
        "        'Monday 15h','Monday 16h','Monday 17h','Monday 18h','Monday 19h','Monday 20h','Monday 21h','Monday 22h','Monday 23h','Bank Holidays']] \n",
        "Y = r3['POWER_lag0']\n",
        "\n"
      ]
    },
    {
      "cell_type": "code",
      "execution_count": 92,
      "metadata": {
        "id": "PVfoZ5jlpM3y",
        "colab": {
          "base_uri": "https://localhost:8080/"
        },
        "outputId": "2a3ffaee-5982-494d-8c04-83e36d02c674"
      },
      "outputs": [
        {
          "output_type": "execute_result",
          "data": {
            "text/plain": [
              "LinearRegression()"
            ]
          },
          "metadata": {},
          "execution_count": 92
        }
      ],
      "source": [
        "import pandas as pd\n",
        "import statsmodels.api as sm\n",
        "from sklearn import linear_model\n",
        "regr = linear_model.LinearRegression()\n",
        "regr.fit(X, Y)\n"
      ]
    },
    {
      "cell_type": "code",
      "source": [
        "# with statsmodels\n",
        "X = sm.add_constant(X) # adding a constant\n",
        " \n",
        "model = sm.OLS(Y, X).fit()\n",
        "predictions = model.predict(X) \n",
        " \n",
        "print_model = model.summary()\n",
        "print(print_model)"
      ],
      "metadata": {
        "id": "4l6xN7QNbGQs",
        "colab": {
          "base_uri": "https://localhost:8080/"
        },
        "outputId": "b21a6734-94c0-41fa-90b2-c0a757573413"
      },
      "execution_count": 93,
      "outputs": [
        {
          "output_type": "stream",
          "name": "stderr",
          "text": [
            "/usr/local/lib/python3.7/dist-packages/statsmodels/tsa/tsatools.py:117: FutureWarning: In a future version of pandas all arguments of concat except for the argument 'objs' will be keyword-only\n",
            "  x = pd.concat(x[::order], 1)\n"
          ]
        },
        {
          "output_type": "stream",
          "name": "stdout",
          "text": [
            "                            OLS Regression Results                            \n",
            "==============================================================================\n",
            "Dep. Variable:             POWER_lag0   R-squared:                       0.939\n",
            "Model:                            OLS   Adj. R-squared:                  0.937\n",
            "Method:                 Least Squares   F-statistic:                     549.0\n",
            "Date:                Thu, 28 Apr 2022   Prob (F-statistic):               0.00\n",
            "Time:                        11:49:55   Log-Likelihood:                -17991.\n",
            "No. Observations:                8404   AIC:                         3.644e+04\n",
            "Df Residuals:                    8173   BIC:                         3.807e+04\n",
            "Df Model:                         230                                         \n",
            "Covariance Type:            nonrobust                                         \n",
            "==========================================================================================\n",
            "                             coef    std err          t      P>|t|      [0.025      0.975]\n",
            "------------------------------------------------------------------------------------------\n",
            "const                      3.2705      0.222     14.743      0.000       2.836       3.705\n",
            "POWER_lag1                 0.3333      0.011     30.129      0.000       0.312       0.355\n",
            "POWER_lag2                 0.2218      0.012     19.029      0.000       0.199       0.245\n",
            "POWER_lag3                 0.1312      0.012     11.010      0.000       0.108       0.155\n",
            "POWER_lag4                 0.0472      0.012      3.935      0.000       0.024       0.071\n",
            "POWER_lag5                 0.0300      0.012      2.501      0.012       0.006       0.054\n",
            "POWER_lag6                 0.0333      0.012      2.778      0.005       0.010       0.057\n",
            "POWER_lag7                 0.0061      0.012      0.512      0.609      -0.017       0.030\n",
            "POWER_lag8                -0.0232      0.012     -1.935      0.053      -0.047       0.000\n",
            "POWER_lag9                -0.0483      0.012     -4.026      0.000      -0.072      -0.025\n",
            "POWER_lag10                0.0013      0.012      0.105      0.916      -0.022       0.025\n",
            "POWER_lag11                0.0336      0.012      2.886      0.004       0.011       0.056\n",
            "POWER_lag12                0.0558      0.011      5.044      0.000       0.034       0.078\n",
            "Temperature_lag0          -0.3751      0.039     -9.737      0.000      -0.451      -0.300\n",
            "Temperature_lag1          -0.0849      0.056     -1.520      0.129      -0.194       0.025\n",
            "Temperature_lag2           0.1167      0.056      2.088      0.037       0.007       0.226\n",
            "Temperature_lag3           0.0283      0.056      0.507      0.612      -0.081       0.138\n",
            "Temperature_lag4           0.1232      0.056      2.205      0.027       0.014       0.233\n",
            "Temperature_lag5           0.0472      0.056      0.845      0.398      -0.062       0.157\n",
            "Temperature_lag6          -0.0250      0.056     -0.447      0.655      -0.135       0.085\n",
            "Temperature_lag7           0.0183      0.056      0.327      0.744      -0.091       0.128\n",
            "Temperature_lag8          -0.0329      0.056     -0.589      0.556      -0.142       0.077\n",
            "Temperature_lag9           0.0155      0.056      0.278      0.781      -0.094       0.125\n",
            "Temperature_lag10          0.0430      0.056      0.769      0.442      -0.067       0.152\n",
            "Temperature_lag11         -0.0868      0.056     -1.554      0.120      -0.196       0.023\n",
            "Temperature_lag12          0.0047      0.056      0.084      0.933      -0.105       0.114\n",
            "Temperature_lag13          0.0054      0.056      0.096      0.923      -0.104       0.115\n",
            "Temperature_lag14          0.0782      0.056      1.402      0.161      -0.031       0.188\n",
            "Temperature_lag15         -0.0790      0.056     -1.415      0.157      -0.188       0.030\n",
            "Temperature_lag16         -0.0072      0.056     -0.129      0.897      -0.117       0.102\n",
            "Temperature_lag17          0.1131      0.056      2.027      0.043       0.004       0.223\n",
            "Temperature_lag18         -0.0679      0.056     -1.218      0.223      -0.177       0.041\n",
            "Temperature_lag19          0.0401      0.056      0.719      0.472      -0.069       0.149\n",
            "Temperature_lag20         -0.0050      0.056     -0.089      0.929      -0.114       0.104\n",
            "Temperature_lag21         -0.1088      0.056     -1.950      0.051      -0.218       0.001\n",
            "Temperature_lag22          0.0538      0.056      0.969      0.333      -0.055       0.163\n",
            "Temperature_lag23          0.0173      0.056      0.310      0.756      -0.092       0.126\n",
            "Temperature_lag24          0.0008      0.037      0.021      0.983      -0.072       0.073\n",
            "Irradiation.flux_lag0     -0.0007      0.000     -1.550      0.121      -0.002       0.000\n",
            "Irradiation.flux_lag1     -0.0011      0.001     -1.754      0.080      -0.002       0.000\n",
            "Irradiation.flux_lag2      0.0004      0.001      0.597      0.551      -0.001       0.002\n",
            "Irradiation.flux_lag3      0.0015      0.001      2.314      0.021       0.000       0.003\n",
            "Irradiation.flux_lag4      0.0002      0.001      0.364      0.716      -0.001       0.001\n",
            "Irradiation.flux_lag5      0.0007      0.001      1.037      0.300      -0.001       0.002\n",
            "Irradiation.flux_lag6      0.0004      0.001      0.714      0.475      -0.001       0.002\n",
            "Irradiation.flux_lag7     -0.0003      0.001     -0.520      0.603      -0.002       0.001\n",
            "Irradiation.flux_lag8     -0.0005      0.001     -0.728      0.466      -0.002       0.001\n",
            "Irradiation.flux_lag9     -0.0003      0.001     -0.415      0.678      -0.001       0.001\n",
            "Irradiation.flux_lag10     0.0003      0.001      0.505      0.613      -0.001       0.002\n",
            "Irradiation.flux_lag11    -0.0003      0.001     -0.508      0.612      -0.002       0.001\n",
            "Irradiation.flux_lag12    -0.0005      0.001     -0.770      0.442      -0.002       0.001\n",
            "Irradiation.flux_lag13  8.166e-05      0.001      0.130      0.897      -0.001       0.001\n",
            "Irradiation.flux_lag14     0.0005      0.001      0.862      0.389      -0.001       0.002\n",
            "Irradiation.flux_lag15    -0.0008      0.001     -1.329      0.184      -0.002       0.000\n",
            "Irradiation.flux_lag16     0.0008      0.001      1.318      0.188      -0.000       0.002\n",
            "Irradiation.flux_lag17    -0.0002      0.001     -0.395      0.693      -0.001       0.001\n",
            "Irradiation.flux_lag18    -0.0003      0.001     -0.424      0.671      -0.001       0.001\n",
            "Irradiation.flux_lag19     0.0002      0.001      0.251      0.802      -0.001       0.001\n",
            "Irradiation.flux_lag20    -0.0011      0.001     -1.744      0.081      -0.002       0.000\n",
            "Irradiation.flux_lag21     0.0013      0.001      2.122      0.034       0.000       0.003\n",
            "Irradiation.flux_lag22     0.0001      0.001      0.199      0.842      -0.001       0.001\n",
            "Irradiation.flux_lag23    -0.0003      0.001     -0.403      0.687      -0.001       0.001\n",
            "Irradiation.flux_lag24    -0.0002      0.000     -0.512      0.609      -0.001       0.001\n",
            "Tuesday 0h                -0.1624      0.301     -0.539      0.590      -0.753       0.428\n",
            "Tuesday 1h                -0.8807      0.301     -2.924      0.003      -1.471      -0.290\n",
            "Tuesday 2h                -0.3757      0.301     -1.247      0.213      -0.967       0.215\n",
            "Tuesday 3h                -0.3818      0.301     -1.267      0.205      -0.973       0.209\n",
            "Tuesday 4h                -0.5220      0.302     -1.731      0.083      -1.113       0.069\n",
            "Tuesday 5h                -0.1863      0.302     -0.618      0.537      -0.778       0.405\n",
            "Tuesday 6h                 1.1526      0.302      3.821      0.000       0.561       1.744\n",
            "Tuesday 7h                 0.6325      0.302      2.095      0.036       0.041       1.224\n",
            "Tuesday 8h                 1.4546      0.302      4.820      0.000       0.863       2.046\n",
            "Tuesday 9h                 0.0573      0.302      0.190      0.850      -0.535       0.649\n",
            "Tuesday 10h               -0.0514      0.302     -0.170      0.865      -0.643       0.540\n",
            "Tuesday 11h               -0.7959      0.302     -2.638      0.008      -1.387      -0.205\n",
            "Tuesday 12h               -0.1291      0.302     -0.428      0.669      -0.720       0.462\n",
            "Tuesday 13h               -0.1820      0.302     -0.604      0.546      -0.773       0.409\n",
            "Tuesday 14h               -0.4969      0.301     -1.650      0.099      -1.087       0.093\n",
            "Tuesday 15h               -0.3225      0.301     -1.072      0.284      -0.912       0.267\n",
            "Tuesday 16h                0.1863      0.300      0.620      0.535      -0.403       0.775\n",
            "Tuesday 17h                0.1560      0.300      0.520      0.603      -0.433       0.745\n",
            "Tuesday 18h                0.1295      0.300      0.432      0.666      -0.458       0.717\n",
            "Tuesday 19h                0.3057      0.300      1.019      0.308      -0.282       0.894\n",
            "Tuesday 20h                0.3782      0.300      1.262      0.207      -0.209       0.966\n",
            "Tuesday 21h                0.4149      0.300      1.385      0.166      -0.172       1.002\n",
            "Tuesday 22h               -0.1993      0.299     -0.665      0.506      -0.786       0.388\n",
            "Tuesday 23h                0.0365      0.299      0.122      0.903      -0.550       0.623\n",
            "Wednesday 0h              -0.2701      0.299     -0.902      0.367      -0.857       0.317\n",
            "Wednesday 1h              -0.4026      0.299     -1.345      0.179      -0.989       0.184\n",
            "Wednesday 2h              -0.6684      0.299     -2.233      0.026      -1.255      -0.082\n",
            "Wednesday 3h              -0.4363      0.299     -1.457      0.145      -1.023       0.151\n",
            "Wednesday 4h              -0.2202      0.300     -0.735      0.462      -0.808       0.367\n",
            "Wednesday 5h              -0.2910      0.300     -0.971      0.332      -0.878       0.296\n",
            "Wednesday 6h               1.2472      0.300      4.162      0.000       0.660       1.835\n",
            "Wednesday 7h               1.1985      0.300      3.993      0.000       0.610       1.787\n",
            "Wednesday 8h               0.6478      0.301      2.153      0.031       0.058       1.238\n",
            "Wednesday 9h              -0.2093      0.301     -0.694      0.487      -0.800       0.381\n",
            "Wednesday 10h             -0.8799      0.301     -2.919      0.004      -1.471      -0.289\n",
            "Wednesday 11h             -0.2472      0.302     -0.820      0.413      -0.838       0.344\n",
            "Wednesday 12h             -0.0721      0.302     -0.239      0.811      -0.663       0.519\n",
            "Wednesday 13h             -0.6695      0.302     -2.220      0.026      -1.261      -0.078\n",
            "Wednesday 14h             -0.4252      0.301     -1.410      0.158      -1.016       0.166\n",
            "Wednesday 15h             -0.1332      0.302     -0.442      0.659      -0.724       0.458\n",
            "Wednesday 16h              0.0884      0.298      0.296      0.767      -0.497       0.673\n",
            "Wednesday 17h             -0.5622      0.298     -1.884      0.060      -1.147       0.023\n",
            "Wednesday 18h             -0.2500      0.298     -0.839      0.401      -0.834       0.334\n",
            "Wednesday 19h              0.3298      0.298      1.107      0.268      -0.254       0.914\n",
            "Wednesday 20h              0.3569      0.301      1.187      0.235      -0.233       0.946\n",
            "Wednesday 21h              0.3067      0.300      1.021      0.307      -0.282       0.896\n",
            "Wednesday 22h              0.8645      0.300      2.878      0.004       0.276       1.453\n",
            "Wednesday 23h              0.6655      0.301      2.214      0.027       0.076       1.255\n",
            "Thursday 0h               -0.2194      0.301     -0.730      0.465      -0.809       0.370\n",
            "Thursday 1h               -0.5448      0.301     -1.813      0.070      -1.134       0.044\n",
            "Thursday 2h               -0.4201      0.301     -1.397      0.162      -1.009       0.169\n",
            "Thursday 3h               -0.2891      0.301     -0.962      0.336      -0.879       0.300\n",
            "Thursday 4h                0.1989      0.301      0.661      0.509      -0.391       0.789\n",
            "Thursday 5h                0.1050      0.301      0.349      0.727      -0.484       0.694\n",
            "Thursday 6h                0.5261      0.301      1.751      0.080      -0.063       1.115\n",
            "Thursday 7h                0.6162      0.300      2.051      0.040       0.027       1.205\n",
            "Thursday 8h                0.5011      0.301      1.667      0.095      -0.088       1.090\n",
            "Thursday 9h               -0.2125      0.301     -0.706      0.480      -0.802       0.377\n",
            "Thursday 10h              -0.2206      0.301     -0.733      0.463      -0.810       0.369\n",
            "Thursday 11h              -0.8648      0.301     -2.873      0.004      -1.455      -0.275\n",
            "Thursday 12h              -0.0585      0.301     -0.194      0.846      -0.649       0.532\n",
            "Thursday 13h              -0.0685      0.301     -0.228      0.820      -0.658       0.521\n",
            "Thursday 14h              -0.3290      0.301     -1.093      0.274      -0.919       0.261\n",
            "Thursday 15h              -0.0145      0.301     -0.048      0.962      -0.605       0.576\n",
            "Thursday 16h               0.1445      0.301      0.480      0.631      -0.446       0.735\n",
            "Thursday 17h              -0.4943      0.301     -1.642      0.101      -1.085       0.096\n",
            "Thursday 18h              -0.5154      0.301     -1.712      0.087      -1.106       0.075\n",
            "Thursday 19h               0.2225      0.301      0.739      0.460      -0.368       0.813\n",
            "Thursday 20h               0.2916      0.301      0.969      0.333      -0.299       0.882\n",
            "Thursday 21h               0.8032      0.301      2.669      0.008       0.213       1.393\n",
            "Thursday 22h               0.5378      0.301      1.787      0.074      -0.052       1.128\n",
            "Thursday 23h               0.6232      0.301      2.070      0.038       0.033       1.213\n",
            "Friday 0h                 -0.6020      0.301     -1.999      0.046      -1.192      -0.012\n",
            "Friday 1h                 -0.1385      0.301     -0.460      0.646      -0.729       0.452\n",
            "Friday 2h                 -0.5482      0.301     -1.819      0.069      -1.139       0.042\n",
            "Friday 3h                 -0.1380      0.301     -0.458      0.647      -0.729       0.453\n",
            "Friday 4h                 -0.0826      0.302     -0.274      0.784      -0.674       0.508\n",
            "Friday 5h                 -0.0371      0.302     -0.123      0.902      -0.628       0.554\n",
            "Friday 6h                  0.9501      0.302      3.151      0.002       0.359       1.541\n",
            "Friday 7h                  0.5687      0.301      1.886      0.059      -0.022       1.160\n",
            "Friday 8h                  1.1085      0.301      3.679      0.000       0.518       1.699\n",
            "Friday 9h                 -0.2544      0.302     -0.844      0.399      -0.846       0.337\n",
            "Friday 10h                -0.4883      0.302     -1.620      0.105      -1.079       0.103\n",
            "Friday 11h                -0.6727      0.302     -2.230      0.026      -1.264      -0.081\n",
            "Friday 12h                 0.0461      0.301      0.153      0.879      -0.545       0.637\n",
            "Friday 13h                 0.0707      0.301      0.235      0.815      -0.520       0.661\n",
            "Friday 14h                -0.5278      0.301     -1.751      0.080      -1.119       0.063\n",
            "Friday 15h                 0.1771      0.301      0.589      0.556      -0.412       0.767\n",
            "Friday 16h                 0.1236      0.301      0.411      0.681      -0.466       0.713\n",
            "Friday 17h                -0.4561      0.301     -1.517      0.129      -1.046       0.133\n",
            "Friday 18h                 0.1360      0.301      0.452      0.651      -0.453       0.725\n",
            "Friday 19h                 0.2846      0.301      0.947      0.344      -0.305       0.874\n",
            "Friday 20h                -0.1010      0.300     -0.336      0.737      -0.690       0.488\n",
            "Friday 21h                 0.4095      0.300      1.365      0.172      -0.179       0.998\n",
            "Friday 22h                 0.8673      0.300      2.892      0.004       0.279       1.455\n",
            "Friday 23h                -0.2104      0.300     -0.702      0.483      -0.798       0.378\n",
            "Saturday 0h               -0.0197      0.300     -0.066      0.948      -0.608       0.569\n",
            "Saturday 1h               -0.2511      0.300     -0.837      0.403      -0.839       0.337\n",
            "Saturday 2h               -0.3316      0.300     -1.105      0.269      -0.920       0.257\n",
            "Saturday 3h                0.0441      0.300      0.147      0.883      -0.544       0.632\n",
            "Saturday 4h               -0.2269      0.300     -0.756      0.450      -0.815       0.362\n",
            "Saturday 5h               -0.0925      0.300     -0.308      0.758      -0.681       0.496\n",
            "Saturday 6h                0.0832      0.300      0.277      0.782      -0.505       0.671\n",
            "Saturday 7h               -0.1180      0.300     -0.393      0.694      -0.707       0.471\n",
            "Saturday 8h                0.6855      0.301      2.280      0.023       0.096       1.275\n",
            "Saturday 9h                0.1641      0.301      0.546      0.585      -0.425       0.753\n",
            "Saturday 10h              -0.0079      0.301     -0.026      0.979      -0.597       0.581\n",
            "Saturday 11h               0.0375      0.301      0.125      0.901      -0.552       0.627\n",
            "Saturday 12h               0.1552      0.301      0.516      0.606      -0.434       0.745\n",
            "Saturday 13h               0.2527      0.301      0.840      0.401      -0.337       0.842\n",
            "Saturday 14h              -0.6870      0.300     -2.287      0.022      -1.276      -0.098\n",
            "Saturday 15h              -0.2690      0.300     -0.895      0.371      -0.858       0.320\n",
            "Saturday 16h              -0.0145      0.301     -0.048      0.961      -0.604       0.575\n",
            "Saturday 17h              -0.6426      0.300     -2.139      0.032      -1.232      -0.054\n",
            "Saturday 18h              -0.2757      0.301     -0.917      0.359      -0.865       0.314\n",
            "Saturday 19h               0.5355      0.301      1.781      0.075      -0.054       1.125\n",
            "Saturday 20h               0.5096      0.301      1.695      0.090      -0.080       1.099\n",
            "Saturday 21h               0.1509      0.301      0.502      0.616      -0.438       0.740\n",
            "Saturday 22h               0.3504      0.301      1.166      0.244      -0.239       0.940\n",
            "Saturday 23h               0.5353      0.301      1.781      0.075      -0.054       1.125\n",
            "Sunday 0h                 -0.5609      0.301     -1.866      0.062      -1.150       0.028\n",
            "Sunday 1h                 -0.8419      0.301     -2.801      0.005      -1.431      -0.253\n",
            "Sunday 2h                  0.1437      0.301      0.478      0.633      -0.446       0.733\n",
            "Sunday 3h                 -0.1617      0.301     -0.538      0.591      -0.751       0.428\n",
            "Sunday 4h                 -0.7334      0.301     -2.438      0.015      -1.323      -0.144\n",
            "Sunday 5h                 -0.2961      0.301     -0.984      0.325      -0.886       0.294\n",
            "Sunday 6h                  0.2796      0.301      0.930      0.353      -0.310       0.869\n",
            "Sunday 7h                  0.1037      0.301      0.345      0.730      -0.486       0.693\n",
            "Sunday 8h                  0.4716      0.301      1.569      0.117      -0.118       1.061\n",
            "Sunday 9h                  0.1708      0.301      0.568      0.570      -0.419       0.761\n",
            "Sunday 10h                 0.9782      0.301      3.251      0.001       0.388       1.568\n",
            "Sunday 11h                -0.0213      0.301     -0.071      0.944      -0.612       0.569\n",
            "Sunday 12h                 0.1313      0.301      0.436      0.663      -0.459       0.722\n",
            "Sunday 13h                -0.1990      0.301     -0.661      0.508      -0.789       0.391\n",
            "Sunday 14h                -0.6095      0.301     -2.028      0.043      -1.199      -0.020\n",
            "Sunday 15h                 0.3617      0.301      1.202      0.229      -0.228       0.952\n",
            "Sunday 16h                 0.4901      0.301      1.629      0.103      -0.100       1.080\n",
            "Sunday 17h                -0.0920      0.301     -0.306      0.760      -0.682       0.498\n",
            "Sunday 18h                 0.2789      0.301      0.927      0.354      -0.311       0.869\n",
            "Sunday 19h                 0.0537      0.301      0.179      0.858      -0.536       0.644\n",
            "Sunday 20h                 0.5090      0.301      1.692      0.091      -0.081       1.099\n",
            "Sunday 21h                 0.6990      0.301      2.323      0.020       0.109       1.289\n",
            "Sunday 22h                 0.1845      0.301      0.613      0.540      -0.405       0.774\n",
            "Sunday 23h                 0.1678      0.301      0.558      0.577      -0.422       0.757\n",
            "Monday 0h                 -0.3937      0.301     -1.309      0.191      -0.983       0.196\n",
            "Monday 1h                 -0.3603      0.301     -1.198      0.231      -0.950       0.229\n",
            "Monday 2h                 -0.5222      0.301     -1.736      0.083      -1.112       0.067\n",
            "Monday 3h                 -0.3579      0.301     -1.190      0.234      -0.948       0.232\n",
            "Monday 4h                 -0.4646      0.301     -1.544      0.123      -1.054       0.125\n",
            "Monday 5h                  0.0053      0.301      0.018      0.986      -0.585       0.595\n",
            "Monday 6h                  0.2650      0.301      0.880      0.379      -0.325       0.855\n",
            "Monday 7h                  0.3146      0.301      1.045      0.296      -0.276       0.905\n",
            "Monday 8h                  1.0449      0.302      3.465      0.001       0.454       1.636\n",
            "Monday 9h                  0.1048      0.302      0.347      0.729      -0.488       0.697\n",
            "Monday 10h                -0.4526      0.302     -1.496      0.135      -1.046       0.140\n",
            "Monday 11h                -0.3042      0.303     -1.006      0.315      -0.897       0.289\n",
            "Monday 12h                 0.5187      0.302      1.716      0.086      -0.074       1.111\n",
            "Monday 13h                -0.2302      0.302     -0.762      0.446      -0.823       0.362\n",
            "Monday 14h                -0.1776      0.302     -0.588      0.557      -0.770       0.415\n",
            "Monday 15h                -0.5414      0.302     -1.795      0.073      -1.133       0.050\n",
            "Monday 16h                -0.1255      0.302     -0.416      0.677      -0.717       0.466\n",
            "Monday 17h                 0.1655      0.302      0.549      0.583      -0.426       0.757\n",
            "Monday 18h                 0.2176      0.302      0.721      0.471      -0.374       0.809\n",
            "Monday 19h                 0.0041      0.302      0.013      0.989      -0.587       0.595\n",
            "Monday 20h                 0.4082      0.302      1.354      0.176      -0.183       0.999\n",
            "Monday 21h                 0.4470      0.301      1.484      0.138      -0.144       1.038\n",
            "Monday 22h                 0.6975      0.301      2.316      0.021       0.107       1.288\n",
            "Monday 23h                -0.0578      0.301     -0.192      0.848      -0.648       0.533\n",
            "Bank Holidays             -0.0894      0.133     -0.675      0.500      -0.349       0.170\n",
            "==============================================================================\n",
            "Omnibus:                      689.407   Durbin-Watson:                   2.004\n",
            "Prob(Omnibus):                  0.000   Jarque-Bera (JB):             1506.507\n",
            "Skew:                           0.527   Prob(JB):                         0.00\n",
            "Kurtosis:                       4.787   Cond. No.                     7.98e+18\n",
            "==============================================================================\n",
            "\n",
            "Warnings:\n",
            "[1] Standard Errors assume that the covariance matrix of the errors is correctly specified.\n",
            "[2] The smallest eigenvalue is 8.38e-29. This might indicate that there are\n",
            "strong multicollinearity problems or that the design matrix is singular.\n"
          ]
        }
      ]
    },
    {
      "cell_type": "code",
      "source": [
        "\n"
      ],
      "metadata": {
        "id": "aE2R7ufmY_Q2"
      },
      "execution_count": null,
      "outputs": []
    },
    {
      "cell_type": "code",
      "source": [
        ""
      ],
      "metadata": {
        "id": "NP2Ft_UPZKLz"
      },
      "execution_count": null,
      "outputs": []
    },
    {
      "cell_type": "code",
      "source": [
        ""
      ],
      "metadata": {
        "id": "yixO6CKd0Vhy"
      },
      "execution_count": null,
      "outputs": []
    },
    {
      "cell_type": "code",
      "source": [
        ""
      ],
      "metadata": {
        "id": "BGeWh3hY0kqX"
      },
      "execution_count": null,
      "outputs": []
    },
    {
      "cell_type": "code",
      "source": [
        " "
      ],
      "metadata": {
        "id": "UZ2mWl4n0mCO"
      },
      "execution_count": null,
      "outputs": []
    }
  ],
  "metadata": {
    "colab": {
      "name": "Test Dataframe.ipynb",
      "provenance": [],
      "authorship_tag": "ABX9TyNAwTg3Pxoyf0gYbi5F1Prs",
      "include_colab_link": true
    },
    "kernelspec": {
      "display_name": "Python 3",
      "name": "python3"
    },
    "language_info": {
      "name": "python"
    }
  },
  "nbformat": 4,
  "nbformat_minor": 0
}